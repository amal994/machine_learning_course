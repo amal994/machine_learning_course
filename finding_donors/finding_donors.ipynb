{
 "cells": [
  {
   "cell_type": "markdown",
   "metadata": {},
   "source": [
    "# Machine Learning Engineer Nanodegree\n",
    "## Supervised Learning\n",
    "## Project: Finding Donors for *CharityML*"
   ]
  },
  {
   "cell_type": "markdown",
   "metadata": {},
   "source": [
    "Welcome to the second project of the Machine Learning Engineer Nanodegree! In this notebook, some template code has already been provided for you, and it will be your job to implement the additional functionality necessary to successfully complete this project. Sections that begin with **'Implementation'** in the header indicate that the following block of code will require additional functionality which you must provide. Instructions will be provided for each section and the specifics of the implementation are marked in the code block with a `'TODO'` statement. Please be sure to read the instructions carefully!\n",
    "\n",
    "In addition to implementing code, there will be questions that you must answer which relate to the project and your implementation. Each section where you will answer a question is preceded by a **'Question X'** header. Carefully read each question and provide thorough answers in the following text boxes that begin with **'Answer:'**. Your project submission will be evaluated based on your answers to each of the questions and the implementation you provide.  \n",
    "\n",
    ">**Note:** Please specify WHICH VERSION OF PYTHON you are using when submitting this notebook. Code and Markdown cells can be executed using the **Shift + Enter** keyboard shortcut. In addition, Markdown cells can be edited by typically double-clicking the cell to enter edit mode."
   ]
  },
  {
   "cell_type": "markdown",
   "metadata": {},
   "source": [
    "## Getting Started\n",
    "\n",
    "In this project, you will employ several supervised algorithms of your choice to accurately model individuals' income using data collected from the 1994 U.S. Census. You will then choose the best candidate algorithm from preliminary results and further optimize this algorithm to best model the data. Your goal with this implementation is to construct a model that accurately predicts whether an individual makes more than $50,000. This sort of task can arise in a non-profit setting, where organizations survive on donations.  Understanding an individual's income can help a non-profit better understand how large of a donation to request, or whether or not they should reach out to begin with.  While it can be difficult to determine an individual's general income bracket directly from public sources, we can (as we will see) infer this value from other publically available features. \n",
    "\n",
    "The dataset for this project originates from the [UCI Machine Learning Repository](https://archive.ics.uci.edu/ml/datasets/Census+Income). The datset was donated by Ron Kohavi and Barry Becker, after being published in the article _\"Scaling Up the Accuracy of Naive-Bayes Classifiers: A Decision-Tree Hybrid\"_. You can find the article by Ron Kohavi [online](https://www.aaai.org/Papers/KDD/1996/KDD96-033.pdf). The data we investigate here consists of small changes to the original dataset, such as removing the `'fnlwgt'` feature and records with missing or ill-formatted entries."
   ]
  },
  {
   "cell_type": "code",
   "execution_count": 1,
   "metadata": {},
   "outputs": [
    {
     "data": {
      "text/html": [
       "<div>\n",
       "<style scoped>\n",
       "    .dataframe tbody tr th:only-of-type {\n",
       "        vertical-align: middle;\n",
       "    }\n",
       "\n",
       "    .dataframe tbody tr th {\n",
       "        vertical-align: top;\n",
       "    }\n",
       "\n",
       "    .dataframe thead th {\n",
       "        text-align: right;\n",
       "    }\n",
       "</style>\n",
       "<table border=\"1\" class=\"dataframe\">\n",
       "  <thead>\n",
       "    <tr style=\"text-align: right;\">\n",
       "      <th></th>\n",
       "      <th>age</th>\n",
       "      <th>workclass</th>\n",
       "      <th>education_level</th>\n",
       "      <th>education-num</th>\n",
       "      <th>marital-status</th>\n",
       "      <th>occupation</th>\n",
       "      <th>relationship</th>\n",
       "      <th>race</th>\n",
       "      <th>sex</th>\n",
       "      <th>capital-gain</th>\n",
       "      <th>capital-loss</th>\n",
       "      <th>hours-per-week</th>\n",
       "      <th>native-country</th>\n",
       "      <th>income</th>\n",
       "    </tr>\n",
       "  </thead>\n",
       "  <tbody>\n",
       "    <tr>\n",
       "      <th>0</th>\n",
       "      <td>39</td>\n",
       "      <td>State-gov</td>\n",
       "      <td>Bachelors</td>\n",
       "      <td>13.0</td>\n",
       "      <td>Never-married</td>\n",
       "      <td>Adm-clerical</td>\n",
       "      <td>Not-in-family</td>\n",
       "      <td>White</td>\n",
       "      <td>Male</td>\n",
       "      <td>2174.0</td>\n",
       "      <td>0.0</td>\n",
       "      <td>40.0</td>\n",
       "      <td>United-States</td>\n",
       "      <td>&lt;=50K</td>\n",
       "    </tr>\n",
       "  </tbody>\n",
       "</table>\n",
       "</div>"
      ],
      "text/plain": [
       "<div>\n",
       "<style scoped>\n",
       "    .dataframe tbody tr th:only-of-type {\n",
       "        vertical-align: middle;\n",
       "    }\n",
       "\n",
       "    .dataframe tbody tr th {\n",
       "        vertical-align: top;\n",
       "    }\n",
       "\n",
       "    .dataframe thead th {\n",
       "        text-align: right;\n",
       "    }\n",
       "</style>\n",
       "<table border=\"1\" class=\"dataframe\">\n",
       "  <thead>\n",
       "    <tr style=\"text-align: right;\">\n",
       "      <th></th>\n",
       "      <th>age</th>\n",
       "      <th>workclass</th>\n",
       "      <th>education_level</th>\n",
       "      <th>education-num</th>\n",
       "      <th>marital-status</th>\n",
       "      <th>occupation</th>\n",
       "      <th>relationship</th>\n",
       "      <th>race</th>\n",
       "      <th>sex</th>\n",
       "      <th>capital-gain</th>\n",
       "      <th>capital-loss</th>\n",
       "      <th>hours-per-week</th>\n",
       "      <th>native-country</th>\n",
       "      <th>income</th>\n",
       "    </tr>\n",
       "  </thead>\n",
       "  <tbody>\n",
       "    <tr>\n",
       "      <th>0</th>\n",
       "      <td>39</td>\n",
       "      <td>State-gov</td>\n",
       "      <td>Bachelors</td>\n",
       "      <td>13.0</td>\n",
       "      <td>Never-married</td>\n",
       "      <td>Adm-clerical</td>\n",
       "      <td>Not-in-family</td>\n",
       "      <td>White</td>\n",
       "      <td>Male</td>\n",
       "      <td>2174.0</td>\n",
       "      <td>0.0</td>\n",
       "      <td>40.0</td>\n",
       "      <td>United-States</td>\n",
       "      <td>&lt;=50K</td>\n",
       "    </tr>\n",
       "  </tbody>\n",
       "</table>\n",
       "</div>"
      ]
     },
     "execution_count": 0,
     "metadata": {},
     "output_type": "execute_result"
    }
   ],
   "source": [
    "# Import libraries necessary for this project\n",
    "import numpy as np\n",
    "import pandas as pd\n",
    "from time import time\n",
    "from IPython.display import display # Allows the use of display() for DataFrames\n",
    "\n",
    "# Import supplementary visualization code visuals.py\n",
    "import visuals as vs\n",
    "\n",
    "# Pretty display for notebooks\n",
    "%matplotlib inline\n",
    "\n",
    "# Load the Census dataset\n",
    "data = pd.read_csv(\"census.csv\")\n",
    "\n",
    "# Success - Display the first record\n",
    "display(data.head(n=1))"
   ]
  },
  {
   "cell_type": "markdown",
   "metadata": {},
   "source": [
    "----\n",
    "## Exploring the Data\n",
    "Run the code cell below to load necessary Python libraries and load the census data. Note that the last column from this dataset, `'income'`, will be our target label (whether an individual makes more than, or at most, $50,000 annually). All other columns are features about each individual in the census database."
   ]
  },
  {
   "cell_type": "markdown",
   "metadata": {},
   "source": [
    "### Implementation: Data Exploration\n",
    "A cursory investigation of the dataset will determine how many individuals fit into either group, and will tell us about the percentage of these individuals making more than \\$50,000. In the code cell below, you will need to compute the following:\n",
    "- The total number of records, `'n_records'`\n",
    "- The number of individuals making more than \\$50,000 annually, `'n_greater_50k'`.\n",
    "- The number of individuals making at most \\$50,000 annually, `'n_at_most_50k'`.\n",
    "- The percentage of individuals making more than \\$50,000 annually, `'greater_percent'`.\n",
    "\n",
    "** HINT: ** You may need to look at the table above to understand how the `'income'` entries are formatted. "
   ]
  },
  {
   "cell_type": "code",
   "execution_count": 2,
   "metadata": {},
   "outputs": [
    {
     "name": "stdout",
     "output_type": "stream",
     "text": [
      "Total number of records: 45222\nIndividuals making more than $50,000: 11208\nIndividuals making at most $50,000: 34014\nPercentage of individuals making more than $50,000: 24.78%\n"
     ]
    }
   ],
   "source": [
    "# TODO: Total number of records\n",
    "n_records = data.shape[0]\n",
    "\n",
    "# TODO: Number of records where individual's income is more than $50,000\n",
    "n_greater_50k = data[(data['income']==\">50K\")].shape[0]\n",
    "\n",
    "# TODO: Number of records where individual's income is at most $50,000\n",
    "n_at_most_50k = data[(data['income']==\"<=50K\")].shape[0]\n",
    "\n",
    "# TODO: Percentage of individuals whose income is more than $50,000\n",
    "greater_percent = ( (n_greater_50k*1.0) / n_records ) * 100.0\n",
    "\n",
    "# Print the results\n",
    "print \"Total number of records: {}\".format(n_records)\n",
    "print \"Individuals making more than $50,000: {}\".format(n_greater_50k)\n",
    "print \"Individuals making at most $50,000: {}\".format(n_at_most_50k)\n",
    "print \"Percentage of individuals making more than $50,000: {:.2f}%\".format(greater_percent)"
   ]
  },
  {
   "cell_type": "markdown",
   "metadata": {},
   "source": [
    "** Featureset Exploration **\n",
    "\n",
    "* **age**: continuous. \n",
    "* **workclass**: Private, Self-emp-not-inc, Self-emp-inc, Federal-gov, Local-gov, State-gov, Without-pay, Never-worked. \n",
    "* **education**: Bachelors, Some-college, 11th, HS-grad, Prof-school, Assoc-acdm, Assoc-voc, 9th, 7th-8th, 12th, Masters, 1st-4th, 10th, Doctorate, 5th-6th, Preschool. \n",
    "* **education-num**: continuous. \n",
    "* **marital-status**: Married-civ-spouse, Divorced, Never-married, Separated, Widowed, Married-spouse-absent, Married-AF-spouse. \n",
    "* **occupation**: Tech-support, Craft-repair, Other-service, Sales, Exec-managerial, Prof-specialty, Handlers-cleaners, Machine-op-inspct, Adm-clerical, Farming-fishing, Transport-moving, Priv-house-serv, Protective-serv, Armed-Forces. \n",
    "* **relationship**: Wife, Own-child, Husband, Not-in-family, Other-relative, Unmarried. \n",
    "* **race**: Black, White, Asian-Pac-Islander, Amer-Indian-Eskimo, Other. \n",
    "* **sex**: Female, Male. \n",
    "* **capital-gain**: continuous. \n",
    "* **capital-loss**: continuous. \n",
    "* **hours-per-week**: continuous. \n",
    "* **native-country**: United-States, Cambodia, England, Puerto-Rico, Canada, Germany, Outlying-US(Guam-USVI-etc), India, Japan, Greece, South, China, Cuba, Iran, Honduras, Philippines, Italy, Poland, Jamaica, Vietnam, Mexico, Portugal, Ireland, France, Dominican-Republic, Laos, Ecuador, Taiwan, Haiti, Columbia, Hungary, Guatemala, Nicaragua, Scotland, Thailand, Yugoslavia, El-Salvador, Trinadad&Tobago, Peru, Hong, Holand-Netherlands."
   ]
  },
  {
   "cell_type": "markdown",
   "metadata": {},
   "source": [
    "----\n",
    "## Preparing the Data\n",
    "Before data can be used as input for machine learning algorithms, it often must be cleaned, formatted, and restructured — this is typically known as **preprocessing**. Fortunately, for this dataset, there are no invalid or missing entries we must deal with, however, there are some qualities about certain features that must be adjusted. This preprocessing can help tremendously with the outcome and predictive power of nearly all learning algorithms."
   ]
  },
  {
   "cell_type": "markdown",
   "metadata": {},
   "source": [
    "### Transforming Skewed Continuous Features\n",
    "A dataset may sometimes contain at least one feature whose values tend to lie near a single number, but will also have a non-trivial number of vastly larger or smaller values than that single number.  Algorithms can be sensitive to such distributions of values and can underperform if the range is not properly normalized. With the census dataset two features fit this description: '`capital-gain'` and `'capital-loss'`. \n",
    "\n",
    "Run the code cell below to plot a histogram of these two features. Note the range of the values present and how they are distributed."
   ]
  },
  {
   "cell_type": "code",
   "execution_count": 3,
   "metadata": {},
   "outputs": [
    {
     "data": {
      "image/png": "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\n",
      "text/plain": [
       "<matplotlib.figure.Figure at 0x10a0e7710>"
      ]
     },
     "metadata": {},
     "output_type": "display_data"
    }
   ],
   "source": [
    "# Split the data into features and target label\n",
    "income_raw = data['income']\n",
    "features_raw = data.drop('income', axis = 1)\n",
    "\n",
    "# Visualize skewed continuous features of original data\n",
    "vs.distribution(data)"
   ]
  },
  {
   "cell_type": "markdown",
   "metadata": {},
   "source": [
    "For highly-skewed feature distributions such as `'capital-gain'` and `'capital-loss'`, it is common practice to apply a <a href=\"https://en.wikipedia.org/wiki/Data_transformation_(statistics)\">logarithmic transformation</a> on the data so that the very large and very small values do not negatively affect the performance of a learning algorithm. Using a logarithmic transformation significantly reduces the range of values caused by outliers. Care must be taken when applying this transformation however: The logarithm of `0` is undefined, so we must translate the values by a small amount above `0` to apply the the logarithm successfully.\n",
    "\n",
    "Run the code cell below to perform a transformation on the data and visualize the results. Again, note the range of values and how they are distributed. "
   ]
  },
  {
   "cell_type": "code",
   "execution_count": 4,
   "metadata": {},
   "outputs": [
    {
     "data": {
      "image/png": "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\n",
      "text/plain": [
       "<matplotlib.figure.Figure at 0x10a145ed0>"
      ]
     },
     "metadata": {},
     "output_type": "display_data"
    }
   ],
   "source": [
    "# Log-transform the skewed features\n",
    "skewed = ['capital-gain', 'capital-loss']\n",
    "features_log_transformed = pd.DataFrame(data = features_raw)\n",
    "features_log_transformed[skewed] = features_raw[skewed].apply(lambda x: np.log(x + 1))\n",
    "\n",
    "# Visualize the new log distributions\n",
    "vs.distribution(features_log_transformed, transformed = True)"
   ]
  },
  {
   "cell_type": "markdown",
   "metadata": {},
   "source": [
    "### Normalizing Numerical Features\n",
    "In addition to performing transformations on features that are highly skewed, it is often good practice to perform some type of scaling on numerical features. Applying a scaling to the data does not change the shape of each feature's distribution (such as `'capital-gain'` or `'capital-loss'` above); however, normalization ensures that each feature is treated equally when applying supervised learners. Note that once scaling is applied, observing the data in its raw form will no longer have the same original meaning, as exampled below.\n",
    "\n",
    "Run the code cell below to normalize each numerical feature. We will use [`sklearn.preprocessing.MinMaxScaler`](http://scikit-learn.org/stable/modules/generated/sklearn.preprocessing.MinMaxScaler.html) for this."
   ]
  },
  {
   "cell_type": "code",
   "execution_count": 5,
   "metadata": {
    "scrolled": true
   },
   "outputs": [
    {
     "data": {
      "text/html": [
       "<div>\n",
       "<style scoped>\n",
       "    .dataframe tbody tr th:only-of-type {\n",
       "        vertical-align: middle;\n",
       "    }\n",
       "\n",
       "    .dataframe tbody tr th {\n",
       "        vertical-align: top;\n",
       "    }\n",
       "\n",
       "    .dataframe thead th {\n",
       "        text-align: right;\n",
       "    }\n",
       "</style>\n",
       "<table border=\"1\" class=\"dataframe\">\n",
       "  <thead>\n",
       "    <tr style=\"text-align: right;\">\n",
       "      <th></th>\n",
       "      <th>age</th>\n",
       "      <th>workclass</th>\n",
       "      <th>education_level</th>\n",
       "      <th>education-num</th>\n",
       "      <th>marital-status</th>\n",
       "      <th>occupation</th>\n",
       "      <th>relationship</th>\n",
       "      <th>race</th>\n",
       "      <th>sex</th>\n",
       "      <th>capital-gain</th>\n",
       "      <th>capital-loss</th>\n",
       "      <th>hours-per-week</th>\n",
       "      <th>native-country</th>\n",
       "    </tr>\n",
       "  </thead>\n",
       "  <tbody>\n",
       "    <tr>\n",
       "      <th>0</th>\n",
       "      <td>0.301370</td>\n",
       "      <td>State-gov</td>\n",
       "      <td>Bachelors</td>\n",
       "      <td>0.800000</td>\n",
       "      <td>Never-married</td>\n",
       "      <td>Adm-clerical</td>\n",
       "      <td>Not-in-family</td>\n",
       "      <td>White</td>\n",
       "      <td>Male</td>\n",
       "      <td>0.667492</td>\n",
       "      <td>0.0</td>\n",
       "      <td>0.397959</td>\n",
       "      <td>United-States</td>\n",
       "    </tr>\n",
       "    <tr>\n",
       "      <th>1</th>\n",
       "      <td>0.452055</td>\n",
       "      <td>Self-emp-not-inc</td>\n",
       "      <td>Bachelors</td>\n",
       "      <td>0.800000</td>\n",
       "      <td>Married-civ-spouse</td>\n",
       "      <td>Exec-managerial</td>\n",
       "      <td>Husband</td>\n",
       "      <td>White</td>\n",
       "      <td>Male</td>\n",
       "      <td>0.000000</td>\n",
       "      <td>0.0</td>\n",
       "      <td>0.122449</td>\n",
       "      <td>United-States</td>\n",
       "    </tr>\n",
       "    <tr>\n",
       "      <th>2</th>\n",
       "      <td>0.287671</td>\n",
       "      <td>Private</td>\n",
       "      <td>HS-grad</td>\n",
       "      <td>0.533333</td>\n",
       "      <td>Divorced</td>\n",
       "      <td>Handlers-cleaners</td>\n",
       "      <td>Not-in-family</td>\n",
       "      <td>White</td>\n",
       "      <td>Male</td>\n",
       "      <td>0.000000</td>\n",
       "      <td>0.0</td>\n",
       "      <td>0.397959</td>\n",
       "      <td>United-States</td>\n",
       "    </tr>\n",
       "    <tr>\n",
       "      <th>3</th>\n",
       "      <td>0.493151</td>\n",
       "      <td>Private</td>\n",
       "      <td>11th</td>\n",
       "      <td>0.400000</td>\n",
       "      <td>Married-civ-spouse</td>\n",
       "      <td>Handlers-cleaners</td>\n",
       "      <td>Husband</td>\n",
       "      <td>Black</td>\n",
       "      <td>Male</td>\n",
       "      <td>0.000000</td>\n",
       "      <td>0.0</td>\n",
       "      <td>0.397959</td>\n",
       "      <td>United-States</td>\n",
       "    </tr>\n",
       "    <tr>\n",
       "      <th>4</th>\n",
       "      <td>0.150685</td>\n",
       "      <td>Private</td>\n",
       "      <td>Bachelors</td>\n",
       "      <td>0.800000</td>\n",
       "      <td>Married-civ-spouse</td>\n",
       "      <td>Prof-specialty</td>\n",
       "      <td>Wife</td>\n",
       "      <td>Black</td>\n",
       "      <td>Female</td>\n",
       "      <td>0.000000</td>\n",
       "      <td>0.0</td>\n",
       "      <td>0.397959</td>\n",
       "      <td>Cuba</td>\n",
       "    </tr>\n",
       "  </tbody>\n",
       "</table>\n",
       "</div>"
      ],
      "text/plain": [
       "<div>\n",
       "<style scoped>\n",
       "    .dataframe tbody tr th:only-of-type {\n",
       "        vertical-align: middle;\n",
       "    }\n",
       "\n",
       "    .dataframe tbody tr th {\n",
       "        vertical-align: top;\n",
       "    }\n",
       "\n",
       "    .dataframe thead th {\n",
       "        text-align: right;\n",
       "    }\n",
       "</style>\n",
       "<table border=\"1\" class=\"dataframe\">\n",
       "  <thead>\n",
       "    <tr style=\"text-align: right;\">\n",
       "      <th></th>\n",
       "      <th>age</th>\n",
       "      <th>workclass</th>\n",
       "      <th>education_level</th>\n",
       "      <th>education-num</th>\n",
       "      <th>marital-status</th>\n",
       "      <th>occupation</th>\n",
       "      <th>relationship</th>\n",
       "      <th>race</th>\n",
       "      <th>sex</th>\n",
       "      <th>capital-gain</th>\n",
       "      <th>capital-loss</th>\n",
       "      <th>hours-per-week</th>\n",
       "      <th>native-country</th>\n",
       "    </tr>\n",
       "  </thead>\n",
       "  <tbody>\n",
       "    <tr>\n",
       "      <th>0</th>\n",
       "      <td>0.301370</td>\n",
       "      <td>State-gov</td>\n",
       "      <td>Bachelors</td>\n",
       "      <td>0.800000</td>\n",
       "      <td>Never-married</td>\n",
       "      <td>Adm-clerical</td>\n",
       "      <td>Not-in-family</td>\n",
       "      <td>White</td>\n",
       "      <td>Male</td>\n",
       "      <td>0.667492</td>\n",
       "      <td>0.0</td>\n",
       "      <td>0.397959</td>\n",
       "      <td>United-States</td>\n",
       "    </tr>\n",
       "    <tr>\n",
       "      <th>1</th>\n",
       "      <td>0.452055</td>\n",
       "      <td>Self-emp-not-inc</td>\n",
       "      <td>Bachelors</td>\n",
       "      <td>0.800000</td>\n",
       "      <td>Married-civ-spouse</td>\n",
       "      <td>Exec-managerial</td>\n",
       "      <td>Husband</td>\n",
       "      <td>White</td>\n",
       "      <td>Male</td>\n",
       "      <td>0.000000</td>\n",
       "      <td>0.0</td>\n",
       "      <td>0.122449</td>\n",
       "      <td>United-States</td>\n",
       "    </tr>\n",
       "    <tr>\n",
       "      <th>2</th>\n",
       "      <td>0.287671</td>\n",
       "      <td>Private</td>\n",
       "      <td>HS-grad</td>\n",
       "      <td>0.533333</td>\n",
       "      <td>Divorced</td>\n",
       "      <td>Handlers-cleaners</td>\n",
       "      <td>Not-in-family</td>\n",
       "      <td>White</td>\n",
       "      <td>Male</td>\n",
       "      <td>0.000000</td>\n",
       "      <td>0.0</td>\n",
       "      <td>0.397959</td>\n",
       "      <td>United-States</td>\n",
       "    </tr>\n",
       "    <tr>\n",
       "      <th>3</th>\n",
       "      <td>0.493151</td>\n",
       "      <td>Private</td>\n",
       "      <td>11th</td>\n",
       "      <td>0.400000</td>\n",
       "      <td>Married-civ-spouse</td>\n",
       "      <td>Handlers-cleaners</td>\n",
       "      <td>Husband</td>\n",
       "      <td>Black</td>\n",
       "      <td>Male</td>\n",
       "      <td>0.000000</td>\n",
       "      <td>0.0</td>\n",
       "      <td>0.397959</td>\n",
       "      <td>United-States</td>\n",
       "    </tr>\n",
       "    <tr>\n",
       "      <th>4</th>\n",
       "      <td>0.150685</td>\n",
       "      <td>Private</td>\n",
       "      <td>Bachelors</td>\n",
       "      <td>0.800000</td>\n",
       "      <td>Married-civ-spouse</td>\n",
       "      <td>Prof-specialty</td>\n",
       "      <td>Wife</td>\n",
       "      <td>Black</td>\n",
       "      <td>Female</td>\n",
       "      <td>0.000000</td>\n",
       "      <td>0.0</td>\n",
       "      <td>0.397959</td>\n",
       "      <td>Cuba</td>\n",
       "    </tr>\n",
       "  </tbody>\n",
       "</table>\n",
       "</div>"
      ]
     },
     "execution_count": 0,
     "metadata": {},
     "output_type": "execute_result"
    }
   ],
   "source": [
    "# Import sklearn.preprocessing.StandardScaler\n",
    "from sklearn.preprocessing import MinMaxScaler\n",
    "\n",
    "# Initialize a scaler, then apply it to the features\n",
    "scaler = MinMaxScaler() # default=(0, 1)\n",
    "numerical = ['age', 'education-num', 'capital-gain', 'capital-loss', 'hours-per-week']\n",
    "\n",
    "features_log_minmax_transform = pd.DataFrame(data = features_log_transformed)\n",
    "features_log_minmax_transform[numerical] = scaler.fit_transform(features_log_transformed[numerical])\n",
    "\n",
    "# Show an example of a record with scaling applied\n",
    "display(features_log_minmax_transform.head(n = 5))"
   ]
  },
  {
   "cell_type": "markdown",
   "metadata": {},
   "source": [
    "### Implementation: Data Preprocessing\n",
    "\n",
    "From the table in **Exploring the Data** above, we can see there are several features for each record that are non-numeric. Typically, learning algorithms expect input to be numeric, which requires that non-numeric features (called *categorical variables*) be converted. One popular way to convert categorical variables is by using the **one-hot encoding** scheme. One-hot encoding creates a _\"dummy\"_ variable for each possible category of each non-numeric feature. For example, assume `someFeature` has three possible entries: `A`, `B`, or `C`. We then encode this feature into `someFeature_A`, `someFeature_B` and `someFeature_C`.\n",
    "\n",
    "|   | someFeature |                    | someFeature_A | someFeature_B | someFeature_C |\n",
    "| :-: | :-: |                            | :-: | :-: | :-: |\n",
    "| 0 |  B  |  | 0 | 1 | 0 |\n",
    "| 1 |  C  | ----> one-hot encode ----> | 0 | 0 | 1 |\n",
    "| 2 |  A  |  | 1 | 0 | 0 |\n",
    "\n",
    "Additionally, as with the non-numeric features, we need to convert the non-numeric target label, `'income'` to numerical values for the learning algorithm to work. Since there are only two possible categories for this label (\"<=50K\" and \">50K\"), we can avoid using one-hot encoding and simply encode these two categories as `0` and `1`, respectively. In code cell below, you will need to implement the following:\n",
    " - Use [`pandas.get_dummies()`](http://pandas.pydata.org/pandas-docs/stable/generated/pandas.get_dummies.html?highlight=get_dummies#pandas.get_dummies) to perform one-hot encoding on the `'features_log_minmax_transform'` data.\n",
    " - Convert the target label `'income_raw'` to numerical entries.\n",
    "   - Set records with \"<=50K\" to `0` and records with \">50K\" to `1`."
   ]
  },
  {
   "cell_type": "code",
   "execution_count": 6,
   "metadata": {
    "scrolled": true
   },
   "outputs": [
    {
     "name": "stdout",
     "output_type": "stream",
     "text": [
      "103 total features after one-hot encoding.\n['age', 'education-num', 'capital-gain', 'capital-loss', 'hours-per-week', 'workclass_ Federal-gov', 'workclass_ Local-gov', 'workclass_ Private', 'workclass_ Self-emp-inc', 'workclass_ Self-emp-not-inc', 'workclass_ State-gov', 'workclass_ Without-pay', 'education_level_ 10th', 'education_level_ 11th', 'education_level_ 12th', 'education_level_ 1st-4th', 'education_level_ 5th-6th', 'education_level_ 7th-8th', 'education_level_ 9th', 'education_level_ Assoc-acdm', 'education_level_ Assoc-voc', 'education_level_ Bachelors', 'education_level_ Doctorate', 'education_level_ HS-grad', 'education_level_ Masters', 'education_level_ Preschool', 'education_level_ Prof-school', 'education_level_ Some-college', 'marital-status_ Divorced', 'marital-status_ Married-AF-spouse', 'marital-status_ Married-civ-spouse', 'marital-status_ Married-spouse-absent', 'marital-status_ Never-married', 'marital-status_ Separated', 'marital-status_ Widowed', 'occupation_ Adm-clerical', 'occupation_ Armed-Forces', 'occupation_ Craft-repair', 'occupation_ Exec-managerial', 'occupation_ Farming-fishing', 'occupation_ Handlers-cleaners', 'occupation_ Machine-op-inspct', 'occupation_ Other-service', 'occupation_ Priv-house-serv', 'occupation_ Prof-specialty', 'occupation_ Protective-serv', 'occupation_ Sales', 'occupation_ Tech-support', 'occupation_ Transport-moving', 'relationship_ Husband', 'relationship_ Not-in-family', 'relationship_ Other-relative', 'relationship_ Own-child', 'relationship_ Unmarried', 'relationship_ Wife', 'race_ Amer-Indian-Eskimo', 'race_ Asian-Pac-Islander', 'race_ Black', 'race_ Other', 'race_ White', 'sex_ Female', 'sex_ Male', 'native-country_ Cambodia', 'native-country_ Canada', 'native-country_ China', 'native-country_ Columbia', 'native-country_ Cuba', 'native-country_ Dominican-Republic', 'native-country_ Ecuador', 'native-country_ El-Salvador', 'native-country_ England', 'native-country_ France', 'native-country_ Germany', 'native-country_ Greece', 'native-country_ Guatemala', 'native-country_ Haiti', 'native-country_ Holand-Netherlands', 'native-country_ Honduras', 'native-country_ Hong', 'native-country_ Hungary', 'native-country_ India', 'native-country_ Iran', 'native-country_ Ireland', 'native-country_ Italy', 'native-country_ Jamaica', 'native-country_ Japan', 'native-country_ Laos', 'native-country_ Mexico', 'native-country_ Nicaragua', 'native-country_ Outlying-US(Guam-USVI-etc)', 'native-country_ Peru', 'native-country_ Philippines', 'native-country_ Poland', 'native-country_ Portugal', 'native-country_ Puerto-Rico', 'native-country_ Scotland', 'native-country_ South', 'native-country_ Taiwan', 'native-country_ Thailand', 'native-country_ Trinadad&Tobago', 'native-country_ United-States', 'native-country_ Vietnam', 'native-country_ Yugoslavia']\n"
     ]
    }
   ],
   "source": [
    "# TODO: One-hot encode the 'features_log_minmax_transform' data using pandas.get_dummies()\n",
    "features_final = pd.get_dummies(features_log_minmax_transform)\n",
    "\n",
    "# TODO: Encode the 'income_raw' data to numerical values\n",
    "income = income_raw.apply(lambda x: 0 if x == '<=50K' else 1)\n",
    "\n",
    "\n",
    "# Print the number of features after one-hot encoding\n",
    "encoded = list(features_final.columns)\n",
    "print \"{} total features after one-hot encoding.\".format(len(encoded))\n",
    "\n",
    "# Uncomment the following line to see the encoded feature names\n",
    "print encoded \n"
   ]
  },
  {
   "cell_type": "markdown",
   "metadata": {},
   "source": [
    "### Shuffle and Split Data\n",
    "Now all _categorical variables_ have been converted into numerical features, and all numerical features have been normalized. As always, we will now split the data (both features and their labels) into training and test sets. 80% of the data will be used for training and 20% for testing.\n",
    "\n",
    "Run the code cell below to perform this split."
   ]
  },
  {
   "cell_type": "code",
   "execution_count": 7,
   "metadata": {},
   "outputs": [
    {
     "name": "stdout",
     "output_type": "stream",
     "text": [
      "Training set has 36177 samples.\nTesting set has 9045 samples.\n"
     ]
    },
    {
     "name": "stderr",
     "output_type": "stream",
     "text": [
      "/anaconda3/envs/udacity_env/lib/python2.7/site-packages/sklearn/cross_validation.py:41: DeprecationWarning: This module was deprecated in version 0.18 in favor of the model_selection module into which all the refactored classes and functions are moved. Also note that the interface of the new CV iterators are different from that of this module. This module will be removed in 0.20.\n  \"This module will be removed in 0.20.\", DeprecationWarning)\n"
     ]
    }
   ],
   "source": [
    "# Import train_test_split\n",
    "from sklearn.cross_validation import train_test_split\n",
    "\n",
    "# Split the 'features' and 'income' data into training and testing sets\n",
    "X_train, X_test, y_train, y_test = train_test_split(features_final, \n",
    "                                                    income, \n",
    "                                                    test_size = 0.2, \n",
    "                                                    random_state = 0)\n",
    "\n",
    "# Show the results of the split\n",
    "print \"Training set has {} samples.\".format(X_train.shape[0])\n",
    "print \"Testing set has {} samples.\".format(X_test.shape[0])"
   ]
  },
  {
   "cell_type": "markdown",
   "metadata": {},
   "source": [
    "----\n",
    "## Evaluating Model Performance\n",
    "In this section, we will investigate four different algorithms, and determine which is best at modeling the data. Three of these algorithms will be supervised learners of your choice, and the fourth algorithm is known as a *naive predictor*."
   ]
  },
  {
   "cell_type": "markdown",
   "metadata": {},
   "source": [
    "### Metrics and the Naive Predictor\n",
    "*CharityML*, equipped with their research, knows individuals that make more than \\$50,000 are most likely to donate to their charity. Because of this, *CharityML* is particularly interested in predicting who makes more than \\$50,000 accurately. It would seem that using **accuracy** as a metric for evaluating a particular model's performace would be appropriate. Additionally, identifying someone that *does not* make more than \\$50,000 as someone who does would be detrimental to *CharityML*, since they are looking to find individuals willing to donate. Therefore, a model's ability to precisely predict those that make more than \\$50,000 is *more important* than the model's ability to **recall** those individuals. We can use **F-beta score** as a metric that considers both precision and recall:\n",
    "\n",
    "$$ F_{\\beta} = (1 + \\beta^2) \\cdot \\frac{precision \\cdot recall}{\\left( \\beta^2 \\cdot precision \\right) + recall} $$\n",
    "\n",
    "In particular, when $\\beta = 0.5$, more emphasis is placed on precision. This is called the **F$_{0.5}$ score** (or F-score for simplicity).\n",
    "\n",
    "Looking at the distribution of classes (those who make at most \\$50,000, and those who make more), it's clear most individuals do not make more than \\$50,000. This can greatly affect **accuracy**, since we could simply say *\"this person does not make more than \\$50,000\"* and generally be right, without ever looking at the data! Making such a statement would be called **naive**, since we have not considered any information to substantiate the claim. It is always important to consider the *naive prediction* for your data, to help establish a benchmark for whether a model is performing well. That been said, using that prediction would be pointless: If we predicted all people made less than \\$50,000, *CharityML* would identify no one as donors. \n",
    "\n",
    "\n",
    "#### Note: Recap of accuracy, precision, recall\n",
    "\n",
    "** Accuracy ** measures how often the classifier makes the correct prediction. It’s the ratio of the number of correct predictions to the total number of predictions (the number of test data points).\n",
    "\n",
    "** Precision ** tells us what proportion of messages we classified as spam, actually were spam.\n",
    "It is a ratio of true positives(words classified as spam, and which are actually spam) to all positives(all words classified as spam, irrespective of whether that was the correct classificatio), in other words it is the ratio of\n",
    "\n",
    "`[True Positives/(True Positives + False Positives)]`\n",
    "\n",
    "** Recall(sensitivity)** tells us what proportion of messages that actually were spam were classified by us as spam.\n",
    "It is a ratio of true positives(words classified as spam, and which are actually spam) to all the words that were actually spam, in other words it is the ratio of\n",
    "\n",
    "`[True Positives/(True Positives + False Negatives)]`\n",
    "\n",
    "For classification problems that are skewed in their classification distributions like in our case, for example if we had a 100 text messages and only 2 were spam and the rest 98 weren't, accuracy by itself is not a very good metric. We could classify 90 messages as not spam(including the 2 that were spam but we classify them as not spam, hence they would be false negatives) and 10 as spam(all 10 false positives) and still get a reasonably good accuracy score. For such cases, precision and recall come in very handy. These two metrics can be combined to get the F1 score, which is weighted average(harmonic mean) of the precision and recall scores. This score can range from 0 to 1, with 1 being the best possible F1 score(we take the harmonic mean as we are dealing with ratios)."
   ]
  },
  {
   "cell_type": "markdown",
   "metadata": {},
   "source": [
    "### Question 1 - Naive Predictor Performace\n",
    "* If we chose a model that always predicted an individual made more than $50,000, what would  that model's accuracy and F-score be on this dataset? You must use the code cell below and assign your results to `'accuracy'` and `'fscore'` to be used later.\n",
    "\n",
    "** Please note ** that the the purpose of generating a naive predictor is simply to show what a base model without any intelligence would look like. In the real world, ideally your base model would be either the results of a previous model or could be based on a research paper upon which you are looking to improve. When there is no benchmark model set, getting a result better than random choice is a place you could start from.\n",
    "\n",
    "** HINT: ** \n",
    "\n",
    "* When we have a model that always predicts '1' (i.e. the individual makes more than 50k) then our model will have no True Negatives(TN) or False Negatives(FN) as we are not making any negative('0' value) predictions. Therefore our Accuracy in this case becomes the same as our Precision(True Positives/(True Positives + False Positives)) as every prediction that we have made with value '1' that should have '0' becomes a False Positive; therefore our denominator in this case is the total number of records we have in total. \n",
    "* Our Recall score(True Positives/(True Positives + False Negatives)) in this setting becomes 1 as we have no False Negatives."
   ]
  },
  {
   "cell_type": "code",
   "execution_count": 8,
   "metadata": {},
   "outputs": [
    {
     "name": "stdout",
     "output_type": "stream",
     "text": [
      "Naive Predictor: [Accuracy score: 0.2478, F-score: 0.2917]\n"
     ]
    }
   ],
   "source": [
    "TP = np.sum(income) # Counting the ones as this is the naive case. Note that 'income' is the 'income_raw' data \n",
    "#encoded to numerical values done in the data preprocessing step.\n",
    "FP = income.count() - TP # Specific to the naive case\n",
    "\n",
    "TN = 0 # No predicted negatives in the naive case\n",
    "FN = 0 # No predicted negatives in the naive case\n",
    "\n",
    "# TODO: Calculate accuracy, precision and recall\n",
    "accuracy = n_greater_50k*1.0/n_records\n",
    "recall = TP*1.0/(TP + FN)\n",
    "precision = TP*1.0/(TP + FP)\n",
    "\n",
    "# TODO: Calculate F-score using the formula above for beta = 0.5 and correct values for precision and recall.\n",
    "fscore =  1.25 * (accuracy) / ( 0.25 * accuracy + 1)\n",
    "# Print the results \n",
    "print \"Naive Predictor: [Accuracy score: {:.4f}, F-score: {:.4f}]\".format(accuracy, fscore)"
   ]
  },
  {
   "cell_type": "markdown",
   "metadata": {},
   "source": [
    "###  Supervised Learning Models\n",
    "**The following are some of the supervised learning models that are currently available in** [`scikit-learn`](http://scikit-learn.org/stable/supervised_learning.html) **that you may choose from:**\n",
    "- Gaussian Naive Bayes (GaussianNB)\n",
    "- Decision Trees\n",
    "- Ensemble Methods (Bagging, AdaBoost, Random Forest, Gradient Boosting)\n",
    "- K-Nearest Neighbors (KNeighbors)\n",
    "- Stochastic Gradient Descent Classifier (SGDC)\n",
    "- Support Vector Machines (SVM)\n",
    "- Logistic Regression"
   ]
  },
  {
   "cell_type": "markdown",
   "metadata": {},
   "source": [
    "### Question 2 - Model Application\n",
    "List three of the supervised learning models above that are appropriate for this problem that you will test on the census data. For each model chosen\n",
    "\n",
    "- Describe one real-world application in industry where the model can be applied. \n",
    "- What are the strengths of the model; when does it perform well?\n",
    "- What are the weaknesses of the model; when does it perform poorly?\n",
    "- What makes this model a good candidate for the problem, given what you know about the data?\n",
    "\n",
    "** HINT: **\n",
    "\n",
    "Structure your answer in the same format as above^, with 4 parts for each of the three models you pick. Please include references with your answer."
   ]
  },
  {
   "cell_type": "markdown",
   "metadata": {},
   "source": [
    "**Answer: **\n",
    "* Gaussian Naive Bayes (GaussianNB:\n",
    "    - Real World Problem: \n",
    "        * Gender classification.\n",
    "        * Document Classification.\n",
    "    - Strengths: \n",
    "        * Effecient.\n",
    "        * Effective.\n",
    "    - Weaknesses:\n",
    "        * Oversimplified Assumptions.\n",
    "    - What makes it a good candidate:\n",
    "        * The algorithm is fast and simple.\n "
    "        * Some of our most important features are continous and Gussian Naive Bayes is good with continous data.\n"
    "* K-Nearest Neighbors (KNeighbors)\n",
    "    - Real World Problem: \n",
    "        * Epileptic MEG Spike Detection.\n",
    "    - Strengths: \n",
    "        * Robust.\n",
    "        * Versatile.\n",
    "    - Weaknesses:\n",
    "        * Memory cost. \n",
    "    - What makes it a good candidate: \n",
    "        * KNN is accurate in its predictions.\n",
    "        * The output of can be changing k which can improve prediction.\n",
    "        * The output of the algorithm is easy to interpret.\n",
    "* Support Vector Machines (SVM)\n",
    "    - Real World Problem: \n",
    "        * Face Detection.\n",
    "        * Classification of Images. \n",
    "    - Strengths: \n",
    "        * Kernel Trick.\n",
    "        * Memory Effecient.\n",
    "        * Effective.\n",
    "    - Weaknesses:\n",
    "        * Can suffer from Over-fitting.\n",
    "        * No direct probability estimates.\n",
    "    - What makes it a good candidate: \n",
    "        * Good when the data is less than 100K and We have around 36K labeled samples. \n"
    "        * Good with numeric Data. \n"
    "        * Accurate predictions. \n"
    "    \n",
    "** References: **\n",
    "    1. http://scikit-learn.org/stable/tutorial/machine_learning_map/index.html\n",
    "    2. http://www.cs.unb.ca/~hzhang/publications/FLAIRS04ZhangH.pdf\n",
    "    3. https://en.wikipedia.org/wiki/Naive_Bayes_classifier#Gender_classification\n",
    "    4. http://scikit-learn.org/stable/modules/generated/sklearn.neighbors.KNeighborsClassifier.html\n",
    "    5. https://www.ncbi.nlm.nih.gov/pmc/articles/PMC5651155/\n",
    "    6. https://kevinzakka.github.io/2016/07/13/k-nearest-neighbor/\n",
    "    7. http://www.robots.ox.ac.uk/~az/lectures/ml/lect2.pdf\n",
    "    8. https://data-flair.training/blogs/applications-of-svm/\n",
    "    9. https://stats.stackexchange.com/questions/24437/advantages-and-disadvantages-of-svm"
   ]
  },
  {
   "cell_type": "markdown",
   "metadata": {},
   "source": [
    "### Implementation - Creating a Training and Predicting Pipeline\n",
    "To properly evaluate the performance of each model you've chosen, it's important that you create a training and predicting pipeline that allows you to quickly and effectively train models using various sizes of training data and perform predictions on the testing data. Your implementation here will be used in the following section.\n",
    "In the code block below, you will need to implement the following:\n",
    " - Import `fbeta_score` and `accuracy_score` from [`sklearn.metrics`](http://scikit-learn.org/stable/modules/classes.html#sklearn-metrics-metrics).\n",
    " - Fit the learner to the sampled training data and record the training time.\n",
    " - Perform predictions on the test data `X_test`, and also on the first 300 training points `X_train[:300]`.\n",
    "   - Record the total prediction time.\n",
    " - Calculate the accuracy score for both the training subset and testing set.\n",
    " - Calculate the F-score for both the training subset and testing set.\n",
    "   - Make sure that you set the `beta` parameter!"
   ]
  },
  {
   "cell_type": "code",
   "execution_count": 9,
   "metadata": {},
   "outputs": [],
   "source": [
    "# TODO: Import two metrics from sklearn - fbeta_score and accuracy_score\n",
    "from sklearn.metrics import fbeta_score\n",
    "from sklearn.metrics import accuracy_score\n",
    "\n",
    "def train_predict(learner, sample_size, X_train, y_train, X_test, y_test): \n",
    "    '''\n",
    "    inputs:\n",
    "       - learner: the learning algorithm to be trained and predicted on\n",
    "       - sample_size: the size of samples (number) to be drawn from training set\n",
    "       - X_train: features training set\n",
    "       - y_train: income training set\n",
    "       - X_test: features testing set\n",
    "       - y_test: income testing set\n",
    "    '''\n",
    "    \n",
    "    results = {}\n",
    "    \n",
    "    # TODO: Fit the learner to the training data using slicing with 'sample_size' using .fit(training_features[:], training_labels[:])\n",
    "    start = time() # Get start time\n",
    "    learner = learner.fit(X_train[:sample_size], y_train[:sample_size])\n",
    "    end = time() # Get end time\n",
    "    \n",
    "    # TODO: Calculate the training time\n",
    "    results['train_time'] = end - start \n",
    "        \n",
    "    # TODO: Get the predictions on the test set(X_test),\n",
    "    #       then get predictions on the first 300 training samples(X_train) using .predict()\n",
    "    start = time() # Get start time\n",
    "    predictions_test = learner.predict(X_test)\n",
    "    predictions_train = learner.predict(X_train[:300])\n",
    "    end = time() # Get end time\n",
    "    \n",
    "    # TODO: Calculate the total prediction time\n",
    "    results['pred_time'] = end - start \n",
    "    beta=0.5        \n",
    "    # TODO: Compute accuracy on the first 300 training samples which is y_train[:300]\n",
    "    results['acc_train'] = accuracy_score(y_train[:300], predictions_train)\n",
    "        \n",
    "    # TODO: Compute accuracy on test set using accuracy_score()\n",
    "    results['acc_test'] = accuracy_score(y_test, predictions_test)\n",
    "    \n",
    "    # TODO: Compute F-score on the the first 300 training samples using fbeta_score()\n",
    "    results['f_train'] = fbeta_score(y_train[:300], predictions_train, beta)\n",
    "        \n",
    "    # TODO: Compute F-score on the test set which is y_test\n",
    "    results['f_test'] = fbeta_score(y_test, predictions_test, beta)\n",
    "       \n",
    "    # Success\n",
    "    print \"{} trained on {} samples.\".format(learner.__class__.__name__, sample_size)\n",
    "        \n",
    "    # Return the results\n",
    "    return results"
   ]
  },
  {
   "cell_type": "markdown",
   "metadata": {},
   "source": [
    "### Implementation: Initial Model Evaluation\n",
    "In the code cell, you will need to implement the following:\n",
    "- Import the three supervised learning models you've discussed in the previous section.\n",
    "- Initialize the three models and store them in `'clf_A'`, `'clf_B'`, and `'clf_C'`.\n",
    "  - Use a `'random_state'` for each model you use, if provided.\n",
    "  - **Note:** Use the default settings for each model — you will tune one specific model in a later section.\n",
    "- Calculate the number of records equal to 1%, 10%, and 100% of the training data.\n",
    "  - Store those values in `'samples_1'`, `'samples_10'`, and `'samples_100'` respectively.\n",
    "\n",
    "**Note:** Depending on which algorithms you chose, the following implementation may take some time to run!"
   ]
  },
  {
   "cell_type": "code",
   "execution_count": 10,
   "metadata": {},
   "outputs": [
    {
     "name": "stdout",
     "output_type": "stream",
     "text": [
      "GaussianNB trained on 361 samples.\nGaussianNB trained on 3617 samples.\n"
     ]
    },
    {
     "name": "stdout",
     "output_type": "stream",
     "text": [
      "GaussianNB trained on 36177 samples.\n"
     ]
    },
    {
     "name": "stdout",
     "output_type": "stream",
     "text": [
      "KNeighborsClassifier trained on 361 samples.\n"
     ]
    },
    {
     "name": "stdout",
     "output_type": "stream",
     "text": [
      "KNeighborsClassifier trained on 3617 samples.\n"
     ]
    },
    {
     "name": "stdout",
     "output_type": "stream",
     "text": [
      "KNeighborsClassifier trained on 36177 samples.\n"
     ]
    },
    {
     "name": "stderr",
     "output_type": "stream",
     "text": [
      "/anaconda3/envs/udacity_env/lib/python2.7/site-packages/sklearn/metrics/classification.py:1135: UndefinedMetricWarning: F-score is ill-defined and being set to 0.0 due to no predicted samples.\n  'precision', 'predicted', average, warn_for)\n"
     ]
    },
    {
     "name": "stdout",
     "output_type": "stream",
     "text": [
      "SVC trained on 361 samples.\n"
     ]
    },
    {
     "name": "stdout",
     "output_type": "stream",
     "text": [
      "SVC trained on 3617 samples.\n"
     ]
    },
    {
     "name": "stdout",
     "output_type": "stream",
     "text": [
      "SVC trained on 36177 samples.\n"
     ]
    },
    {
     "data": {
      "image/png": "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\n",
      "text/plain": [
       "<matplotlib.figure.Figure at 0x1058a3b50>"
      ]
     },
     "metadata": {},
     "output_type": "display_data"
    }
   ],
   "source": [
    "# TODO: Import the three supervised learning models from sklearn\n",
    "from sklearn.naive_bayes import GaussianNB\n",
    "from sklearn.neighbors import KNeighborsClassifier\n",
    "from sklearn import svm\n",
    "\n",
    "# TODO: Initialize the three models\n",
    "clf_A = GaussianNB()\n",
    "clf_B = KNeighborsClassifier()\n",
    "clf_C = svm.SVC()\n",
    "\n",
    "# TODO: Calculate the number of samples for 1%, 10%, and 100% of the training data\n",
    "# HINT: samples_100 is the entire training set i.e. len(y_train)\n",
    "# HINT: samples_10 is 10% of samples_100\n",
    "# HINT: samples_1 is 1% of samples_100\n",
    "samples_100 = len(X_train)\n",
    "samples_10 = samples_100*0.1\n",
    "samples_1 = samples_100*0.01\n",
    "\n",
    "# Collect results on the learners\n",
    "results = {}\n",
    "for clf in [clf_A, clf_B, clf_C]:\n",
    "    clf_name = clf.__class__.__name__\n",
    "    results[clf_name] = {}\n",
    "    for i, samples in enumerate([samples_1, samples_10, samples_100]):\n",
    "        results[clf_name][i] = train_predict(clf, int(samples), X_train, y_train, X_test, y_test)\n",
    "\n",
    "# Run metrics visualization for the three supervised learning models chosen\n",
    "vs.evaluate(results, accuracy, fscore)"
   ]
  },
  {
   "cell_type": "markdown",
   "metadata": {},
   "source": [
    "----\n",
    "## Improving Results\n",
    "In this final section, you will choose from the three supervised learning models the *best* model to use on the student data. You will then perform a grid search optimization for the model over the entire training set (`X_train` and `y_train`) by tuning at least one parameter to improve upon the untuned model's F-score. "
   ]
  },
  {
   "cell_type": "markdown",
   "metadata": {},
   "source": [
    "### Question 3 - Choosing the Best Model\n",
    "\n",
    "* Based on the evaluation you performed earlier, in one to two paragraphs, explain to *CharityML* which of the three models you believe to be most appropriate for the task of identifying individuals that make more than \\$50,000. \n",
    "\n",
    "** HINT: ** \n",
    "Look at the graph at the bottom left from the cell above(the visualization created by `vs.evaluate(results, accuracy, fscore)`) and check the F score for the testing set when 100% of the training set is used. Which model has the highest score? Your answer should include discussion of the:\n",
    "* metrics - F score on the testing when 100% of the training data is used, \n",
    "* prediction/training time\n",
    "* the algorithm's suitability for the data."
   ]
  },
  {
   "cell_type": "markdown",
   "metadata": {},
   "source": [
    "**Answer: **\n",
    "\n",
    "SVN is the most best model to use on the data becaude of the following reasons. First, SVN has the highest F-score on testing when 100% of the training data is used. Second, Although the models training time is the longest when 100% of the training data is used. But it outperforms K-Nearest Neighbors in the prediction time. Third, Also the SVN scores the highest accuracy on the testing data when 100% of the training data is used. Therefore the SVN Classifier is the most suitable model of the  the three for the this data for the CharityML problem.\n"
   ]
  },
  {
   "cell_type": "markdown",
   "metadata": {},
   "source": [
    "### Question 4 - Describing the Model in Layman's Terms\n",
    "\n",
    "* In one to two paragraphs, explain to *CharityML*, in layman's terms, how the final model chosen is supposed to work. Be sure that you are describing the major qualities of the model, such as how the model is trained and how the model makes a prediction. Avoid using advanced mathematical jargon, such as describing equations.\n",
    "\n",
    "** HINT: **\n",
    "\n",
    "When explaining your model, if using external resources please include all citations."
   ]
  },
  {
   "cell_type": "markdown",
   "metadata": {},
   "source": [
    "**Answer: ** \n",
    "![image.png](attachment:image.png)\n",
    "Suppose we want to split red dots from the blue ones above by drawing a line. Notice that there are an infinite number of lines that will accomplish this task. Support vector machines (SVM), find the optimal line in the middle of the points \"maximum margin line\". Also, the SVN uses a kernal trick where \"the line\" that seperates the points can take any other non-linear shapes to help seperate the tangled dots. During training, It depends only on a subset of the training data, because it does not care about training points that lie beyond the margin. Which makes it memory efficient. \n",
    "\n",
    "\n",
    "resources:\n",
    "1. https://www.reddit.com/r/MachineLearning/comments/15zrpp/please_explain_support_vector_machines_svm_like_i/\n",
    "2. http://scikit-learn.org/stable/modules/svm.html\n",
    "3. http://kernelsvm.tripod.com/"
   ]
  },
  {
   "cell_type": "markdown",
   "metadata": {},
   "source": [
    "### Implementation: Model Tuning\n",
    "Fine tune the chosen model. Use grid search (`GridSearchCV`) with at least one important parameter tuned with at least 3 different values. You will need to use the entire training set for this. In the code cell below, you will need to implement the following:\n",
    "- Import [`sklearn.grid_search.GridSearchCV`](http://scikit-learn.org/0.17/modules/generated/sklearn.grid_search.GridSearchCV.html) and [`sklearn.metrics.make_scorer`](http://scikit-learn.org/stable/modules/generated/sklearn.metrics.make_scorer.html).\n",
    "- Initialize the classifier you've chosen and store it in `clf`.\n",
    " - Set a `random_state` if one is available to the same state you set before.\n",
    "- Create a dictionary of parameters you wish to tune for the chosen model.\n",
    " - Example: `parameters = {'parameter' : [list of values]}`.\n",
    " - **Note:** Avoid tuning the `max_features` parameter of your learner if that parameter is available!\n",
    "- Use `make_scorer` to create an `fbeta_score` scoring object (with $\\beta = 0.5$).\n",
    "- Perform grid search on the classifier `clf` using the `'scorer'`, and store it in `grid_obj`.\n",
    "- Fit the grid search object to the training data (`X_train`, `y_train`), and store it in `grid_fit`.\n",
    "\n",
    "**Note:** Depending on the algorithm chosen and the parameter list, the following implementation may take some time to run!"
   ]
  },
  {
   "cell_type": "code",
   "execution_count": 11,
   "metadata": {},
   "outputs": [
    {
     "name": "stderr",
     "output_type": "stream",
     "text": [
      "/anaconda3/envs/udacity_env/lib/python2.7/site-packages/sklearn/grid_search.py:42: DeprecationWarning: This module was deprecated in version 0.18 in favor of the model_selection module into which all the refactored classes and functions are moved. This module will be removed in 0.20.\n  DeprecationWarning)\n"
     ]
    },
    {
     "name": "stdout",
     "output_type": "stream",
     "text": [
      "Unoptimized model\n------\nAccuracy score on testing data: 0.8371\nF-score on testing data: 0.6745\n\nOptimized Model\n------\nFinal accuracy score on the testing data: 0.8376\nFinal F-score on the testing data: 0.6757\n"
     ]
    }
   ],
   "source": [
    "# TODO: Import 'GridSearchCV', 'make_scorer', and any other necessary libraries\n",
    "from  sklearn.grid_search import GridSearchCV  as gridSearch\n",
    "from  sklearn.metrics     import make_scorer   as mscorer\n",
    "\n",
    "\n",
    "# TODO: Initialize the classifier\n",
    "clf =  svm.SVC()\n",
    "\n",
    "# TODO: Create the parameters list you wish to tune, using a dictionary if needed.\n",
    "# HINT: parameters = {'parameter_1': [value1, value2], 'parameter_2': [value1, value2]}\n",
    "parameters = {\"gamma\": [0.01, 1.0, 100.0]}\n",
    "\n",
    "# TODO: Make an fbeta_score scoring object using make_scorer()\n",
    "scorer = mscorer(fbeta_score, beta = 0.5)\n",
    "\n",
    "# TODO: Perform grid search on the classifier using 'scorer' as the scoring method using GridSearchCV()\n",
    "grid_obj = gridSearch(clf, param_grid = parameters, cv = 10, scoring = scorer)\n",
    "\n",
    "# TODO: Fit the grid search object to the training data and find the optimal parameters using fit()\n",
    "grid_fit = grid_obj.fit(X_train, y_train)\n",
    "\n",
    "# Get the estimator\n",
    "best_clf = grid_fit.best_estimator_\n",
    "\n",
    "# Make predictions using the unoptimized and model\n",
    "predictions = (clf.fit(X_train, y_train)).predict(X_test)\n",
    "best_predictions = best_clf.predict(X_test)\n",
    "\n",
    "# Report the before-and-afterscores\n",
    "print \"Unoptimized model\\n------\"\n",
    "print \"Accuracy score on testing data: {:.4f}\".format(accuracy_score(y_test, predictions))\n",
    "print \"F-score on testing data: {:.4f}\".format(fbeta_score(y_test, predictions, beta = 0.5))\n",
    "print \"\\nOptimized Model\\n------\"\n",
    "print \"Final accuracy score on the testing data: {:.4f}\".format(accuracy_score(y_test, best_predictions))\n",
    "print \"Final F-score on the testing data: {:.4f}\".format(fbeta_score(y_test, best_predictions, beta = 0.5))"
   ]
  },
  {
   "cell_type": "markdown",
   "metadata": {},
   "source": [
    "### Question 5 - Final Model Evaluation\n",
    "\n",
    "* What is your optimized model's accuracy and F-score on the testing data? \n",
    "* Are these scores better or worse than the unoptimized model? \n",
    "* How do the results from your optimized model compare to the naive predictor benchmarks you found earlier in **Question 1**?_  \n",
    "\n",
    "**Note:** Fill in the table below with your results, and then provide discussion in the **Answer** box."
   ]
  },
  {
   "cell_type": "markdown",
   "metadata": {},
   "source": [
    "#### Results:\n",
    "\n",
    "|     Metric     | Unoptimized Model | Optimized Model |\n",
    "| :------------: | :---------------: | :-------------: | \n",
    "| Accuracy Score |     0.8371        |     0.8376      |\n",
    "| F-score        |     0.6745        |     0.6757      |\n"
   ]
  },
  {
   "cell_type": "markdown",
   "metadata": {},
   "source": [
    "**Answer: **\n",
    "\n",
    "The optimized model's has the following results on testing data:\n",
    "accuracy:0.8371\t\n",
    "F-score:0.6745\n",
    "These scores are the slightly better as the unoptimized model.\n",
    "There is a huge improvement from the naive predictor benchmarks (Accuracy: 0.2478 F-score: 0.2917)."
   ]
  },
  {
   "cell_type": "markdown",
   "metadata": {},
   "source": [
    "----\n",
    "## Feature Importance\n",
    "\n",
    "An important task when performing supervised learning on a dataset like the census data we study here is determining which features provide the most predictive power. By focusing on the relationship between only a few crucial features and the target label we simplify our understanding of the phenomenon, which is most always a useful thing to do. In the case of this project, that means we wish to identify a small number of features that most strongly predict whether an individual makes at most or more than \\$50,000.\n",
    "\n",
    "Choose a scikit-learn classifier (e.g., adaboost, random forests) that has a `feature_importance_` attribute, which is a function that ranks the importance of features according to the chosen classifier.  In the next python cell fit this classifier to training set and use this attribute to determine the top 5 most important features for the census dataset."
   ]
  },
  {
   "cell_type": "markdown",
   "metadata": {},
   "source": [
    "### Question 6 - Feature Relevance Observation\n",
    "When **Exploring the Data**, it was shown there are thirteen available features for each individual on record in the census data. Of these thirteen records, which five features do you believe to be most important for prediction, and in what order would you rank them and why?"
   ]
  },
  {
   "cell_type": "markdown",
   "metadata": {},
   "source": [
    "**Answer:**\n",
    "- Age: the age should affect income because it is a good indicator of the persons experience, and with higher experience usually comes higher income.\n",
    "- Hours-per-week: number of hours-per-week influences icome because if someone is working full-time his income is usually higher than someone who works part-time.\n",
    "- Martial status: the martial status is also strongly correlated with income because it can indicate stability in work and life.\n",
    "- Occupation: the occupation does effect income. For example, physicians makes more money than nurses.\n",
    "- Education: Is directly related to income because people with higher education tend to have better jobs."
   ]
  },
  {
   "cell_type": "markdown",
   "metadata": {},
   "source": [
    "### Implementation - Extracting Feature Importance\n",
    "Choose a `scikit-learn` supervised learning algorithm that has a `feature_importance_` attribute availble for it. This attribute is a function that ranks the importance of each feature when making predictions based on the chosen algorithm.\n",
    "\n",
    "In the code cell below, you will need to implement the following:\n",
    " - Import a supervised learning model from sklearn if it is different from the three used earlier.\n",
    " - Train the supervised model on the entire training set.\n",
    " - Extract the feature importances using `'.feature_importances_'`."
   ]
  },
  {
   "cell_type": "code",
   "execution_count": 12,
   "metadata": {},
   "outputs": [
    {
     "data": {
      "image/png": "iVBORw0KGgoAAAANSUhEUgAAAoAAAAFgCAYAAAArYcg8AAAABHNCSVQICAgIfAhkiAAAAAlwSFlzAAALEgAACxIB0t1+/AAAADl0RVh0U29mdHdhcmUAbWF0cGxvdGxpYiB2ZXJzaW9uIDIuMS4xLCBodHRwOi8vbWF0cGxvdGxpYi5vcmcvAOZPmwAAIABJREFUeJzs3XmYFNW5x/HvKyCLIiigoqhgRDQoARwUHEVcccWYoGLUSKISF+KS6I2aBAnRxBsxIjFetxg0LqgQDVGjRgUXFlkUCQIGUFREZVGRXZb3/nFOD0XTPdMDMz1A/T7PM890VZ06dbq2fuucU1Xm7oiIiIhIemxX0wUQERERkeJSACgiIiKSMgoARURERFJGAaCIiIhIyigAFBEREUkZBYAiIiIiKaMAcAtnZr3NzM3sKzPbOWta7Titfw0Vb5MlvlfLxLg5ZjakJsuQI809ZrbCzLbPGn92nPeJHPM8aWYLzMwqWZ5N2pZm1i3Oe1wF6RqbWX8z61jZZZST52lm9h8zWxnL0Liq8s6xLM/z93AizVwzu7+KlndMZbZHXHau8o1KpBlnZs9XRfkqUa6hsRyz80y/JU5fUw3Lrh33ua4Fpr8ka90tMbO34/hq/72K62JlYrheLMd1lcznGjPrUVH+xZBjnSb/jqimZfY0syuqI2+pOrVrugBSsEbAL4BKnYi2MmcAX9d0IbK8BvQBDgXeSIzvCiwHjswxz5HA6175h2x2AeZuSiEL1Bi4MS7jrc3NzMxqA48AY4DLgW+AJZubbwWGAPdkjVuQ+HwasLiKlnUM8EugfyXmeQ74bda45D59IbB284q1SZYC+5pZqbuPzoyMQdW5hO3WoBqWW5uwz60hHEuF6kHYro2Ac4D/A3YBflfVBazAKsJx+VEl57sGeAYYkTX+z8Dfq6BcmyKzTpPeraZl9QRKgMHVlL9UAQWAW48XgZ+a2SB3/6w6FmBmdd19VXXkXQh3f7umll2OV+P/rmwcAN4LXGVm+7v7fwHMrA2wW2K+grn7uM0sa7HtCTQEnnD3yvy452RmtQBz9/Jqoj4pbz0Vsg9V836+oILyVdcPbkU+B94BzgdGJ8YfA+xBCOR/UAPlyudtd89cDL1gZvsDV5EnAIy17XXc/ZuqLES8iKuy49LdPwY+rqr8Kim5Trc6BZ4fpBLUBLz1uCn+/2VFCc3sUDN7ycyWmtkyM3vZzA7NSjMkNll1MbMxZrYC+EOcNsfMHjaz883svdgE+rqZtTazHWKz6CIz+9zMbos1QZl865nZ7WY2NS7/MzP7p5kdUEC5y5qAzaxlOc0WoxLz1Daz681shpmtMrN5sUz1svLe18yeNbPlFppn7wDqVlSmeML8gBDwZfLaBWgLPAZ8mJyW+LxBQGRmF5vZO7GpdKGZ/SXmk0yzUROwmZ0Tv9tKC02tPcxsVHIdJDQwsztj/gviNmycWZ/xewDcl1iXveP07nE/WBy323tm1i/feonlnBMH/5LcLhZcHfP4xsw+jeXaKcf3vdnMrjOzDwg1iAfnW2YhLKsJ2MwuisspNbPhZraYGACZWed4nHwR94vZZvanOO0m4rGWWFeb/cNjiSZgM9vHzNaZ2cU50t0Yt3njxLizzWx8LOuXFpp296zE4h8CzjKz5H7/Q+AlYF6OMtS10GT5YdyOH1hozk0e73XM7Pdm9n4s7wIL54rD4jG4Iib9bWI9bkorxkSgWWYfiueV+y00b/4XWA0cG6c1jOeATLlnm9n/mG3YJcPCeXJMLPfHucpleZqAzewQMxsR950VZjbdzK7JlI1wEXhh4jvfHadlNzHPMrNHciz3qDjfiVnLfMZCd6AVZvaamXXZhHWZk5ntZmb3xeN1lZlNM7MfZaVpHtPMjPvhR2b2kJntnkgzFDgb+Fbi+8+I0zLN0btn5Zuv6b2fmf3azD4knB9aV6Kse5rZI4k08+I226ArVZqpBnDr8SlwJ6HGaaC7f5grkZm1I9Q+TQN6A05oNn7VzDq7+zuJ5I2AocBA4AbWn6whBDLfIjQ7bw8MAoYD7wOzgF4xza+A2cBdcb66hFqhm2KZdwEuA8aZ2QGVqL38lND0ktSWUOs2PTHuYUKz3/8SmiIPJDTBtQS+H9fJ9sC/gfqEpsr5wE+A7xVYlteA75lZLXdfS2jiXU5oRn2dsB4yQUdXQhNk2Xo2s1uAnxOaQ64l1JzdBBxkZofHPDdiZscTamZGxPmbErZDPeC/OWa5g9Ds9AOgDSGgXwtcQFif3yM0P/2e9U1Ts81s3zg8DBjA+hPtvuWsk/uBqcCT8bs8y/qmzpuB6wnNXf8Evk3YJt8xs6PcfV0in96EfeoaYBk5ApEslgxAAAqsEXgMeJTQlFjLzBoB/wLGEoKgpYR9pnNMfzdhO/Vm/X5YSJP+RuUD1ubqDuDuH5rZa4RaufuyJp8L/NPdv4qZXgX8Maa7kdCcPwAYaWbt3X15AWV7nLCPnAL83cx2IOwTPyF34P0Y4dj6LaEWrCvwa2Bv4McxTT/CMXU9YX9oROgusQuh+fQowvnoHkLzPVS+ORWgFWG/TJ6jTgI6xTItAmbFY/2lmP63hHNFKWEfbcT6oH73mO5DwvpfSzhPNq+oIBb6zb0U874S+IRwvLWJSU4mnG/eIBxrEGpgc3kYuNbMGrp7svvEeXGef8dldgZGErbDhcBKoC/wipkd6u7/qajchP0+uW+uyxyLMSgaG8f/irCNTiFc3NV298z+2ZTQXeAXwEKgBeGc9pqZtXX31XH+JsABwJlxvuR2q4yfAO8Ran9XAvMrUdahsRw/I2yj3YHjCedPAXB3/W3Bf6wP4vYjnFS/Ah6I02rHaf0T6YfFNI0T43YCvgD+nhg3JM57eo5lzonpGyXGXRHT35+V9i1gZDnlr0XoW7QEuDrH92qZtdwhefJpRggUxgD14rgjYx4/zEp7bhzfPg5fHIc7J9JsR+j/skEZ8iz7xzFdSRy+DXgpfu4DzEmk/RB4JjHckvDj0i8rz9KY53cT47K35RjCj6olxnWM6UYlxnWL4x7MWsadhJOmJcriwEVZ6XrG8TtVct/cL87XOzFul7jMIVlpz4tpe2R933lA/QKX53n+9kukmZvcR4GLYppbs/LqHMd/u5zl3URsBSywfHPzlK9bIs044PnE8IXAOjY8DjJl6xGHGxOC47uylrc/oW/dJRWUaygwK35+Ang6fv4hIWhvANwCrEnMUxLLcF2udQK0icMvAY+Ws+x6Mf2vClyHl8T0+xDOb02An8Z1NDSR7jPCOaVp1vwXx7SHZY3/LSEIaZw4hlcCuyfSNCKcO1fmKP91iXHjCeeieuV8j8/IOlfG8bdk5f+tmP8FiXF1Yzn+mBg3mnBRWTsxrg7h4ntovnJkrdPsv5cSaW6O+1jLrHn/RjhGt8uTd23CxaIDJ+Xa5/KUZfes8dnrJbPePwS2z0pbYVkBI1ww9Cn0+E3jn5qAtyLu/gXhxPVDC33NculKCEC+Ssz3NaGG56istGsINUa5jHX3ZGf6GfH/C1npZgB7JUeY2Vlm9qaZfRWXsQzYkfVXyJUSr+qfioOnu3umqeBEwkE+3EJTcO14hftinJ5pju0CfOyJvlkernw3uoM3j2Q/wMz/1+PnN4B9zGxvM9ubUDuSbP49nnBCeiSrjG8Sfnxz3h1pob9LCTDc49ktlvst1jflZns2a/g/hB+T3Sr4fpMJTWhDLdy9t2sF6cvTOS7z4azxQwn7QvY++Ly7V6Z24AFCrU/yr5A+VU9lDb9HWP/3mdm5ZtaiEmUozzM5yjepnPRPEgKR8xLjzifUrvwrDh9JCNKy96H3419Bd9hGDwEnm1kTQgA43HPXHmbyzN6OD2dNnwB818wGmNnhZlanEmUpzxzCPrkQuB34KyF4SHrd3RdmjTuRUDs+Kcc5oR6hdhLCOeE1T7RIxPPdvyiHhSb5TsBDifPQJnP32YTarPMTo3sQgtGH4jJ3iuV9PA5nvpMDr1D49j+FDffLyxLTTiScy+ZmrbcXCLWi+8Vlm5ldYaE7ylLCNsq0RmzS+b0Cz/rG/TorLGs8Z04CbjCzvmbWthrKttVTALj1uZ1QOzcgz/RdCM192T4Dsvs+zPc8zY/Al1nD35QzvqxK3cxOI5yophOaIg8jnGwWsOlV7/cBBwGnunvyLrZdCc3TmRNR5m9+nN4k/m9O7iaYfM0yG4gn6U+Arma2I9CB9QHgdELzU1fWBzfJADATTM3KKuNqQs1sE3JrSrjCn59jWr5yf5E1nLnRodz17u6zgO6E88HfgM9iAJ8drBUi069xg33QQzPtosR0cqUrwKfuPjHrr5AbOrLL8yVwNGFd3g18HH/UvlvJ8mRblKN8ee+MTlycnQehTx2h/9RQD81psH4feoON96HW5N+HcnmecAxfQ/j+D+VJl9lO2V02Psua3p9QI9OTUEu1MPbN2tx+Vplg5QBgB3e/MHlRG+Xad3YlBCLZ6ylzTG7uOSEzf1XeTPEQcLSt7895PjDV3SfH4WaEGq2b2fh7XUTh239K1n6Z7EayK3BCjvz/FqdnlnENoRvKs4SnNhzK+vNedTSt5tvGhZT1DML+/ktgqoX+wdebVe7xXNsy9QHcyrj7UjP7PaEm8NYcSb4g9HXItjsbBwieI93m6kWo+u+dGRF/1LJ/+AtiZjcQAsmT3X1a1uRFhNqTXI9igfX9yT4l9B/MVlHNWNLrhNq8IwhNTOMgtA+a2RuEANAItZ3JGp9F8f8JbBw8J6dnW0g4qeWqjduNTetHlZe7jyT0J6tLaJ4eADxrZi1z1LKUJ7OP7U7iERPxCr0JG3/f6tgHc9loObE29XuxbJ0IPxTDzOxgd5+enb4a/Q0428w6EQKTJqz/MYP16+wHwMwc8xf86CR3X2NmjwH/QwhiRuVJmtmOuxEufjIy55ZFMb9VhMDkZjNrTqi9uo1wYXZBoeXKYYpXfMdqrn1nEaF297wc0yDUmEI4J+Q6/is6J2S2RWVuvqlIpm/mD8zsAUIN168S0zPb4jZCTXq2qjiGFhEuUq/NMz3TAtQLeM7dy26KMbMDK7GcTK3p9lnj8wWx+bZxhWWNtbuXAJeY2beBHxHuIv+MUKOcegoAt053ETq23pRj2qvAKclOxWbWkNCZe1QRytaA0NSXdD6hL2ClmNn3CN/xUnf/d44kzxM6Izdy95fLyWos8KN4E8y4mPd2wFmVKM6rhJPfpcBbWc1mbxCuxI3QdL46Me3fhIBx7zzfISd3X2tmE4Hvm1n/TDOwmR1C6OC+KQFgpqasfjnLXUXoWL4j8I+4rMoEgOPicnoByW1yNuF8U+nH41S3WDs51sJdz6cQap2mE9eXmdWvZDN1Zb1AqOk9nxAAvufu4xPTXyP0X9vX3R+rguXdT+gP+myye0GWzHbqRQg8Ms5NlGkD7v4pcI+ZnU6osYfQQuCUs89VsecJAdSXseY+n7HAZWa2e6YZON4YdFJ5mbv7V2Y2ntAN55Zyap9XUeB3dvcvzexZwvZfTjhXPpI1/U2gHXBtOdtsczxPvCErdjXKpwHhwjTpRznS5fv+mZsXDyKew+JF57HVUNYysfLgWjO7jPX7ZuopANwKufsqMxtAuCM222+BU4GXzex/CSffXxAO3HzNxlXpeUKfoNsJ/aEOIdxAkt18U654Z+rfCH133ol3wWV87e7T3H1UrM0YZmZ/JHTOXkf4cTsZ+EVs5niQcIff32ON4nzCleEGjyWpQOYH7zQ2/EGEUDuYqY3doM+Uu8+O2+HO2G/zVcJV8F6EGsX7Y+1bLjfG7/+Umd1LaBbuT7iCXZdnnvJ8Trh67mVmUwi1lR8Q7tTrSniI8cdxOdcTalCnVmYB7v5F3BbXm9mymOeBhED+DTbup1gjYpDyY+BpQn+zHQl3Gn5N6J8J4U56gGvM7EXCTRLl9efbJIlaufNiOX6bNf0LC48huc3M9iAEjEsItVBHA/9y92GVWN5UoNymbnefZGZPAb+z8DiX8YSa9uuBv/r6517+i7C+3iYc4yWEZwveHvNZZ2bvAaeb2SuEO+TnejU9y5RQs3MBoTb7NsL+W5fQh60H0D12e7mVcMPIv+O5dE38bkuouCnzZ4SLm9HxPDcv5n+gu/8spplGaNY9mXC+me/u5V20PUTop3o98Iq7f5I1/SpCf7/nLDwq6zNC03AJsNrdf11BmSvyB0Iz/htmNojQr68h4dg9zN2/H9M9T3ge7f8QbgDsTu59aRohSL4QmAIs9/AMzNGEc8ztMfBbR7jJpzLd0Sosq5ntRriAfZRQI7w2zlOfeGe1oLuAt/Q/EncBZ42vTdjxN7hzNE47jHB33lLCj/zLwKFZaYYQTsS5ljkHeDhrXLe4rOPKy4dwIN9EOCkuJwQ8Hci6w5cK7gJOLC/X36is5V1JuENuJesfwfIHNryLeV9CMLKc0B/xDsIjBjYoQwXbYj5Zd7LG8XXienbgqDzznk+oHVsWt8t0wl26LRJpcm3LHxBOYKsITapnEH5snypg2+Rax98lnJxXx2m9CR3M/0E4Ma8iNI89SbzTs5z1sdFdwHG8AVfHcn8T8/szWXcZx3lvqsSxUGF68t8F3DIr3YGEm4A+iPvNfEJwWpJ1jN0d95d1JO6SLWfZQypIs8FdwInxh8RyrssuayLN6YTjaUncj2cSavMq2k4578jMSnNL9vcjBE63EGpqvonrqj8b3ol6PSEA/CKWaQah+TKZphvhRqNV5LizOGuZmbtEW1RQ3px32cZpDQjnoP/GZS6KZezHhnfUH0q4035V3PevI//dqNl3Q3cinE8Wx+89DfhZYvrBhGBneZz/7sR6XpmjzNsTatqdrKcaZOX5ZNwfM2V+CjihgnVV6DptQnhUVeaZe5/H/e2yRJodCX2yFxAulp4m3I2+wToiXFw/SbgocGBGYtp3CBfNSwnn/J+Ws95z3j1eUVmBHWI5p8XlLCYce2eWtw7S9pd5PISIbAXi3aqzgJvdPfuVYyIiIgVRACiyhTKz+oSH/75EqB3Yl9B5fzegrYc+VyIiIpWmPoAiW661hLsu7yQ0eSwjNJ2cqeBPREQ2h2oARURERFJGD4IWERERSZmtugm4adOm3rJly5ouhoiIiMgWYdKkSQvdvVlF6bbqALBly5ZMnDixposhIiIiskUwsw8rTqUmYBEREZHUUQAoIiIikjIKAEVERERSZqvuAygilbN69Wrmzp3LypUra7ooIhWqV68eLVq0oE6dOjVdFJFtjgJAkRSZO3cuDRs2pGXLlphZTRdHJC93Z9GiRcydO5dWrVrVdHFEtjlqAhZJkZUrV9KkSRMFf7LFMzOaNGmi2mqRaqIAUCRlFPzJ1kL7qkj1UQAoIiIikjLqAyiSYvZg1daw+AUVv1u8Vq1aHHzwwWXDTz/9NJV9o89XX33Fo48+ymWXXVbZIlbI3WnWrBkzZ85k55135tNPP2WPPfbg9ddf54gjjgCgWbNmzJgxgyZNmuTMY8SIEUybNo3rrrsu73JGjRrFwIEDeeaZZzaaNmjQIPr06UODBg2q5kuJiGRRDaCIFFX9+vWZPHly2d+mvM7xq6++4q677qr0fGvXrq0wjZlx2GGHMXbsWADGjBlDhw4dGDNmDADvvfceTZs2zRv8AfTo0aPc4K8igwYNYvny5Zs8v4hIRRQAikiNW7t2Lddeey2dOnWiXbt23HPPPQAsXbqUY489lo4dO3LwwQfzj3/8A4DrrruO2bNn0759e6699lpGjRrFqaeeWpZf3759GTJkCBBeGTlgwACOOOIInnzySWbPns2JJ57IIYccwpFHHsmMGTM2Kk9paWlZwDdmzBh+9rOfbRAQHn744QAsWLCA73//+3Tq1IlOnToxevRoAIYMGULfvn0BmD17Np07d6ZTp07069ePHXfcsWw5S5cupWfPnhxwwAGce+65uDuDBw9m3rx5HH300Rx99NFVuZpFRMqoCVhEimrFihW0b98egFatWvHUU0/xl7/8hUaNGjFhwgRWrVpFaWkpJ5xwAnvttRdPPfUUO+20EwsXLqRz58706NGDW265halTpzJ58mQgNKeWp169erzxxhsAHHvssdx99920bt2aN998k8suu4xXXnllg/SHH344AwYMAGD8+PH85je/YdCgQUAIAEtLSwG48sorufrqqzniiCP46KOP6N69O9OnT98gryuvvJIrr7ySc845h7vvvnuDaW+//Tbvvvsue+yxB6WlpYwePZorrriCP/7xj4wcOZKmTZtuwhoWEamYAkARKapME3DSiy++yJQpUxg2bBgAixcvZubMmbRo0YIbbriB1157je22245PPvmEzz//vNLLPPvss4FQ4zZmzBjOPPPMsmmrVq3aKP2hhx7K22+/zbJly1i9ejU77rgj++67L7NmzWLMmDH8/Oc/B+Cll15i2rRpZfN9/fXXLFmyZIO8xo4dy9NPPw3AD37wA6655poNltOiRQsA2rdvz5w5c8r6GYpsiezBB6stb7/ggmrLWzamAFBEapy786c//Ynu3btvMH7IkCEsWLCASZMmUadOHVq2bJnzuXC1a9dm3bp1ZcPZaXbYYQcA1q1bR+PGjTcKQLM1aNCA/fbbjwceeICOHTsC0LlzZ5577jnmz59PmzZtyvIbO3Ys9evXr/yXBurWrVv2uVatWqxZs2aT8hERqSz1ARSRGte9e3f+7//+j9WrVwPw3//+l2XLlrF48WJ23XVX6tSpw8iRI/nwww8BaNiw4QY1bfvssw/Tpk1j1apVLF68mJdffjnncnbaaSdatWrFk08+CYTA85133smZtrS0lEGDBtGlSxcAunTpwh133EHnzp3Lnk93wgkncOedd5bNkyuw7Ny5M8OHDwdg6NChBa2P7O8nIlLVVAMokmKFPLalGC666CLmzJlDx44dyx7D8vTTT3Puuedy2mmnUVJSQvv27TnggAMAaNKkCaWlpRx00EGcdNJJ3HrrrZx11lm0a9eO1q1b06FDh7zLeuSRR7j00ku56aabWL16Nb169eI73/nORulKS0u54447ygLAjh07MnfuXC666KKyNIMHD+byyy+nXbt2rFmzhq5du27Uz2/QoEGcd9553HbbbZxyyik0atSowvXRp08fTjrpJJo3b87IkSMLWociIpVh7lvGD8CmKCkp8YkTJ9Z0MUS2GtOnT+fAAw+s6WKkyvLly6lfvz5mxtChQ3nsscfK7maWimmf3bKoD+CWz8wmuXtJRelUAygiUo0mTZpE3759cXcaN27MAw88UNNFEhFRACgiUp2OPPLIvP0MRURqim4CEREREUkZBYAiIiIiKaMAUERERCRlFACKiIiIpIxuAhFJsap+pEMhj3H47LPPuOqqq5gwYQJ169alZcuWDBo0iP33379Ky5LUrVs3Bg4cSElJ/icjDBo0iD59+tCgQQMATj75ZB599FEaN268Wctu2bIlDRs2pFatWgDcddddHH744ZXO53e/+x033HDDZpUlnw4dOvDXv/6V9u3bs2bNGho1asQ999zDeeedB8AhhxzCfffdV/ZWlGwTJ07koYceYvDgwXmXMWfOHE499VSmTp260bQhQ4ZwwgknsMcee1TNFxKRCqkGUESKxt0544wz6NatG7Nnz2batGn87ne/26T3+1a1QYMGsXz58rLh5557brODv4yRI0cyefJkJk+evEnBH4QAsLIKfbXc4YcfzpgxYwB45513aNOmTdnwsmXLeP/993M+LDujpKSk3OCvIkOGDGHevHmbPL+IVJ4CQBEpmpEjR1KnTh0uueSSsnHt27fnyCOPZNSoUZx66qll4/v27cuQIUOAUIt2ww030KVLF0pKSnjrrbfo3r073/rWt8revFHe/EmXXnopJSUltG3blhtvvBEIb/SYN28eRx99NEcffXTZMhcuXMgvfvEL7rrrrrL5+/fvz2233QbArbfeSqdOnWjXrl1ZXoXKN+93v/tdDjnkENq2bcu9994LwHXXXceKFSto37495557LnPmzOGggw4qm2fgwIH0798fCLWdN9xwA0cddRR33HEHCxYs4Pvf/z6dOnWiU6dOjB49eqOylJaWlgV8Y8aM4ZJLLil7rd348ePp2LEjtWrVYtmyZfz4xz+mU6dOdOjQoeyB1sl1v2DBAo4//ng6duzIT37yE/bZZx8WLlwIwNq1a7n44otp27YtJ5xwAitWrGDYsGFMnDiRc889l/bt27NixYpKrUcR2TQKAEWkaKZOncohhxyySfPutddejB07liOPPJLevXszbNgwxo0bR79+/SqVz80338zEiROZMmUKr776KlOmTOGKK65gjz32YOTIkRu9eq1Xr148/vjjZcNPPPEEZ555Ji+++CIzZ85k/PjxTJ48mUmTJvHaa6/lXObRRx9N+/btOeywwwDKnfeBBx5g0qRJTJw4kcGDB7No0SJuueUW6tevz+TJk3nkkUcq/I5fffUVr776Kj//+c+58sorufrqq5kwYQLDhw/f4FV2GckawDFjxtC1a1fq1q3LkiVLGDNmDKWlpWXr7phjjmHChAmMHDmSa6+9lmXLlm2Q129+8xuOOeYY3nrrLc444ww++uijsmkzZ87k8ssv591336Vx48YMHz6cnj17UlJSwiOPPMLkyZOpX79+hd9PRDaf+gCKyFahR48eABx88MEsXbqUhg0b0rBhQ+rVq8dXX31VcD5PPPEE9957L2vWrOHTTz9l2rRptGvXLm/6Dh06MH/+fObNm8eCBQvYeeed2XvvvRk8eDAvvvhi2XuHly5dysyZM+natetGeYwcOZKmTZuWDb/44ot55x08eDBPPfUUAB9//DEzZ86kSZMmBX8/gLPPPrvs80svvcS0adPKhr/++muWLFlCw4YNy8a1bNmSb775hs8++4wZM2bQpk0bOnXqxJtvvsmYMWP46U9/WlbuESNGMHDgQABWrly5QYAH8MYbb5SV/8QTT2TnnXcum9aqVSvat28PhH6Fc+bMqdT3EpGqowBQRIqmbdu2DBs2LOe02rVrs27durLhlStXbjC9bt26AGy33XZlnzPDa9asqXB+gA8++ICBAwcyYcIEdt55Z3r37p0zXbbv/zfyAAAgAElEQVSePXsybNgwPvvsM3r16gWE/ozXX389P/nJTyqcP1u+eUeNGsVLL73E2LFjadCgAd26dctZvoq+6w477FD2ed26dYwdO7bCmrUuXbowbNgwmjdvjpnRuXNnRo8ezfjx4+ncuXNZuYcPH06bNm02mDfZh7O898snt1utWrXU3CtSg9QELCJFc8wxx7Bq1Sruu+++snETJkzg1VdfZZ999mHatGmsWrWKxYsX8/LLL1cq70Lm//rrr9lhhx1o1KgRn3/+Of/617/KpjVs2JAlS5bkzLtXr14MHTqUYcOG0bNnTwC6d+/OAw88wNKlSwH45JNPmD9/fkFlzTfv4sWL2XnnnWnQoAEzZsxg3LhxZfPUqVOH1atXA7Dbbrsxf/58Fi1axKpVq3jmmWfyLuuEE07gzjvvLBvO9O3LVlpayu23306XLl2AEBA+9NBD7L777mU3w3Tv3p0//elPZUHe22+/vVE+RxxxBE888QQQagy//PLLCtdHeeteRKqHagBFUqyQx7ZUJTPjqaee4qqrruKWW26hXr16ZY+B2WuvvTjrrLNo164drVu3LmseLVQh83/nO9+hQ4cOtG3bln333besbxtAnz59OOmkk2jevPlG/QDbtm3LkiVL2HPPPWnevDkQAqvp06eXBUw77rgjDz/8MLvuumuFZc0374knnsjdd99Nu3btaNOmTVnNW6Z87dq1o2PHjjzyyCP069ePww47jFatWnHAAQfkXdbgwYO5/PLLadeuHWvWrKFr165lN84klZaWcvXVV5eVqXnz5qxdu3aDu5Z//etfc9VVV9GuXTvcnZYtW24UfN54442cc845PP744xx11FE0b96chg0blgW7ufTu3ZtLLrmE+vXrF1RbKSKbz8qrrt/SlZSU+MSJE2u6GCJbjenTp3PggQfWdDFkG7Zq1Spq1apF7dq1GTt2LJdeemneWsdCaJ/dslT1s0OTin1Buq0ys0nunv+hp5FqAEVEpMp89NFHnHXWWaxbt47tt99+g+Z+EdlyKAAUEZEq07p16w36Bk5cuJCJ8TmAm2Lh0qV8O0+tk2qMRDadbgIRSZmtuduHpIw76ypOJSKbQAGgSIrUq1ePRYsWKQiULZ87a5YsYZYeFSNSLYrWBGxmJwJ3ALWA+939lqzpewMPAo1jmuvc/blilU8kDVq0aMHcuXNZsGBBTRdFUmJhOXf/lmcdMGvFCvpnPWhaRKpGUQJAM6sF/Bk4HpgLTDCzEe4+LZHsV8AT7v5/ZvZt4DmgZTHKJ5IWderUoVWrVjVdDEmRfP33RKRmFasJ+FBglru/7+7fAEOB07PSOLBT/NwImFeksomIiIikSrECwD2BjxPDc+O4pP7AeWY2l1D799NcGZlZHzObaGYT1YwlIiIiUnnFCgAtx7jsXujnAEPcvQVwMvA3M9uofO5+r7uXuHtJs2bNqqGoIiIiItu2YgWAc4G9EsMt2LiJ90LgCQB3HwvUA5oWpXQiIiIiKVKsAHAC0NrMWpnZ9kAvYERWmo+AYwHM7EBCAKg2XhEREZEqVpQA0N3XAH2BF4DphLt93zWzAWbWIyb7OXCxmb0DPAb0dj2sTERERKTKFe05gPGZfs9ljeuX+DwNKC1WeURERETSSm8CEREREUkZBYAiIiIiKaMAUERERCRlFACKiIiIpIwCQBEREZGUUQAoIiIikjIKAEVERERSRgGgiIiISMooABQRERFJGQWAIiIiIimjAFBEREQkZRQAioiIiKSMAkARERGRlFEAKCIiIpIyCgBFREREUkYBoIiIiEjKKAAUERERSRkFgCIiIiIpowBQREREJGUUAIqIiIikjAJAERERkZRRACgiIiKSMgoARURERFJGAaCIiIhIyigAFBEREUkZBYAiIiIiKaMAUERERCRlFACKiIiIpIwCQBEREZGUUQAoIiIikjIKAEVERERSRgGgiIiISMooABQRERFJGQWAIiIiIimjAFBEREQkZWrXdAFERDLswQerLW+/4IJqy1tEZGujGkARERGRlFEAKCIiIpIyCgBFREREUkYBoIiIiEjKKAAUERERSRkFgCIiIiIpowBQREREJGUUAIqIiIikjAJAERERkZRRACgiIiKSMgoARURERFJGAaCIiIhIyigAFBEREUkZBYAiIiIiKaMAUERERCRlFACKiIiIpEzRAkAzO9HM3jOzWWZ2XZ40Z5nZNDN718weLVbZRERERNKkdjEWYma1gD8DxwNzgQlmNsLdpyXStAauB0rd/Usz27UYZRMRERFJm2LVAB4KzHL39939G2AocHpWmouBP7v7lwDuPr9IZRMRERFJlWIFgHsCHyeG58ZxSfsD+5vZaDMbZ2Yn5srIzPqY2UQzm7hgwYJqKq6IiIjItqtYAaDlGOdZw7WB1kA34BzgfjNrvNFM7ve6e4m7lzRr1qzKCyoiIiKyrStWADgX2Csx3AKYlyPNP9x9tbt/ALxHCAhFREREpAoVKwCcALQ2s1Zmtj3QCxiRleZp4GgAM2tKaBJ+v0jlExEREUmNogSA7r4G6Au8AEwHnnD3d81sgJn1iMleABaZ2TRgJHCtuy8qRvlERERE0qQoj4EBcPfngOeyxvVLfHbgZ/FPRERERKqJ3gQiIiIikjIKAEVERERSRgGgiIiISMooABQRERFJGQWAIiIiIimjAFBEREQkZRQAioiIiKSMAkARERGRlFEAKCIiIpIyCgBFREREUkYBoIiIiEjKKAAUERERSRkFgCIiIiIpowBQREREJGUUAIqIiIikjAJAERERkZQpOAA0szPzjO9ZdcURERERkepWmRrAv+QZf29VFEREREREiqN2RQnMbN/4cTszawVYYvK+wMrqKJiIiIiIVI8KA0BgFuCEwG921rTPgP5VXCYRERERqUYVBoDuvh2Amb3q7kdVf5FEREREpDoV3AdQwZ+IiIjItqGQJmAAYv+/m4H2wI7Jae6+dxWXS0RERESqScEBIPAooQ/gz4Hl1VMckcLZgw9Wa/5+wQXVmr+IiEhNqUwA2BYodfd11VUYEREREal+lXkO4GtAh+oqiIiIiIgUR7k1gGY2IDE4B3jBzP5OePxLGXfvV/VFExEREZHqUFET8F5Zw/8E6uQYLyIiIiJbiXIDQHf/UbEKIiIiIiLFUZnHwOybZ9Iq4FPdHCIiIiKydajMXcCZV8JBeC2cJ6atM7MRwGXu/nlVFU5EREREql5l7gK+GHgE2B+oB7QBHgYuAw4mBJN/ruoCioiIiEjVqkwN4G+A/dx9ZRyeZWaXAv9193vMrDcws6oLKCIiIiJVqzI1gNsBLbPG7Q3Uip+XUrmAUkRERERqQGUCtkHAK2b2V+BjoAXwozge4BRgbNUWT0RERESqWsEBoLv/wcymAGcCHYFPgQvd/fk4/Wng6WoppYiIiIhUmUo12cZg7/lqKouIiIiIFEFFr4L7pbvfHD8PyJdOr4ITERER2XpUVAPYIvFZr38TERER2QZU9Cq4SxOf9Vo4ERERkW1ApfoAmtmBQE9gN3fva2ZtgLruPqVaSiciIiIiVa7g5wCa2ZnAa8CewA/j6IbAH6uhXCIiIiJSTSrzIOgBwPHufgmwNo57B/hOlZdKRERERKpNZQLAXQkBH4An/nvu5CIiIiKyJapMADgJOD9rXC9gfNUVR0RERESqW2VuArkCeNHMLgR2MLMXgP2BE6qlZCIiIiJSLSoMAM3sLOA1d59hZgcApwLPEN4H/Iy7L63mMoqIiIhIFSqkBvAm4FtmNptwF/CrwBPu/mG1lkxEREREqkWFfQDdfX9gD+CXwArg58BsM/vQzP5mZhdVcxlFREREpAoVdBOIu3/u7k+6+0/dvT3QFPgzcDxwT3UWUERERESqVkE3gZiZAe2BrvHvcGAe8ATwerWVTkRERESqXCE3gTwDdATeA94A7gV6u/uSai6biIiIiFSDQpqA2wCrgA+A2cCsTQn+zOxEM3vPzGaZ2XXlpOtpZm5mJZVdhoiIiIhUrMIaQHdvbWa7sb759yozawqMJjT/vuHuk8vLw8xqsb7P4FxggpmNcPdpWekaEp43+OamfBkRERERqdim3gRyEOHNIL+K/ytyKKHm8H13/wYYCpyeI91vgT8AKwsqvYiIiIhU2qbeBHIE0BiYCDxQQBZ7Eh4cnTEXOCxrGR2Avdz9GTO7ppyy9AH6AOy9996FFF9EREREEgq5CeRZwl2/2xOaZl8F7gTGunuhNXWWY5wnlrEdcDvQu6KM3P1ewo0olJSUeAXJRURERCRLITWArwM3AxPcffUmLmcusFdiuAXhMTIZDQnNyqNCZSO7AyPMrIe7T9zEZYqIiIhIDoXcBHJLFSxnAtDazFoBnwC9gB8klrGY8HBpAMxsFHCNgj8RERGRqlfQTSCby93XAH2BF4DphHcJv2tmA8ysRzHKICIiIiJBQTeBVAV3fw54LmtcvzxpuxWjTCIiIiJpVJQaQBERERHZcigAFBEREUkZBYAiIiIiKaMAUERERCRlFACKiIiIpIwCQBEREZGUUQAoIiIikjIKAEVERERSRgGgiIiISMooABQRERFJGQWAIiIiIimjAFBEREQkZRQAioiIiKSMAkARERGRlFEAKCIiIpIyCgBFREREUkYBoIiIiEjKKAAUERERSRkFgCIiIiIpowBQREREJGUUAIqIiIikjAJAERERkZRRACgiIiKSMgoARURERFKmdk0XoJjswQerMffe1Zj3lsMv8JougoiIiGwm1QCKiIiIpIwCQBEREZGUUQAoIiIikjIKAEVERERSRgGgiIiISMooABQRERFJGQWAIiIiIimjAFBEREQkZRQAioiIiKSMAkARERGRlFEAKCIiIpIyCgBFREREUkYBoIiIiEjKKAAUERERSRkFgCIiIiIpowBQREREJGUUAIqIiIikjAJAERERkZRRACgiIiKSMgoARURERFJGAaCIiIhIyigAFBEREUkZBYAiIiIiKaMAUERERCRlFACKiIiIpIwCQBEREZGUUQAoIiIikjJFCwDN7EQze8/MZpnZdTmm/8zMppnZFDN72cz2KVbZRERERNKkKAGgmdUC/gycBHwbOMfMvp2V7G2gxN3bAcOAPxSjbCIiIiJpU6wawEOBWe7+vrt/AwwFTk8mcPeR7r48Do4DWhSpbCIiIiKpUrtIy9kT+DgxPBc4rJz0FwL/qtYSiVTAHrSaLkJR+AVe00UQEZEiK1YAmOuXNOevjpmdB5QAR+WZ3gfoA7D33ntXVflEREREUqNYTcBzgb0Swy2AedmJzOw44JdAD3dflSsjd7/X3UvcvaRZs2bVUlgRERGRbVmxAsAJQGsza2Vm2wO9gBHJBGbWAbiHEPzNL1K5RERERFKnKAGgu68B+gIvANOBJ9z9XTMbYGY9YrJbgR2BJ81sspmNyJOdiIiIiGyGYvUBxN2fA57LGtcv8fm4YpVFREREJM30JhARERGRlFEAKCIiIpIyCgBFREREUkYBoIiIiEjKKAAUERERSRkFgCIiIiIpU7THwIiI1KS0vNsZ9H5nEamYagBFREREUkYBoIiIiEjKqAlYRES2Smlp1leTvlQH1QCKiIiIpIwCQBEREZGUUQAoIiIikjIKAEVERERSRgGgiIiISMooABQRERFJGQWAIiIiIimjAFBEREQkZRQAioiIiKSMAkARERGRlFEAKCIiIpIyCgBFREREUkYBoIiIiEjKKAAUERERSRkFgCIiIiIpowBQREREJGUUAIqIiIikjAJAERERkZRRACgiIiKSMgoARURERFJGAaCIiIhIyigAFBEREUkZBYAiIiIiKaMAUERERCRlFACKiIiIpEztmi6AiIiIiD1oNV2EovELvKaLoBpAERERkbRRACgiIiKSMgoARURERFJGAaCIiIhIyigAFBEREUkZBYAiIiIiKaMAUERERCRlFACKiIiIpIwCQBEREZGUUQAoIiIikjIKAEVERERSRgGgiIiISMooABQRERFJGQWAIiIiIimjAFBEREQkZRQAioiIiKSMAkARERGRlClaAGhmJ5rZe2Y2y8yuyzG9rpk9Hqe/aWYti1U2ERERkTQpSgBoZrWAPwMnAd8GzjGzb2cluxD40t33A24H/rcYZRMRERFJm2LVAB4KzHL39939G2AocHpWmtOBB+PnYcCxZmZFKp+IiIhIatQu0nL2BD5ODM8FDsuXxt3XmNlioAmwMJnIzPoAfeLgUjN7r1pKvGVpStZ6qCnWWzF5FdE23fZom25btD23PWnZpvsUkqhYAWCub+qbkAZ3vxe4tyoKtbUws4nuXlLT5ZCqo2267dE23bZoe257tE03VKwm4LnAXonhFsC8fGnMrDbQCPiiKKUTERERSZFiBYATgNZm1srMtgd6ASOy0owALoifewKvuPtGNYAiIiIisnmK0gQc+/T1BV4AagEPuPu7ZjYAmOjuI4C/AH8zs1mEmr9exSjbViJVTd4poW267dE23bZoe257tE0TTJVsIiIiIumiN4GIiIiIpIwCQBEREZGUUQAoItscM+ttZndWcZ7fTb7ByMwGmNlxVbkMqT5mtoeZDYuf25vZyQXM083Mnqmi5ZeY2eCqyGtLZ2YtzWxqTZdjS2Vmc8ysaU2XY4sOAItxwGaf1Dc33aaKO8TrWeMmV8VBZGbPmVnjSqSv1I+nmfXI9X5nkW3MdwmvsgTA3fu5+0s1WB6pBHef5+4942B7oMLfkype/kR3v6KYy9yWxMfDFWM5tYqxnC3BFhsAmlntIh2wG5zUqyDd5mhoZplnIR5Y2Zmzd1wLtnP3k939q6oqZDZ3H+Hut1RX/lsjM3vazCaZ2bvx7TWY2YVm9l8zG2Vm92WCbDNrZmbDzWxC/Cut2dJv+czsPDMbHy+S7jGzWmb2o7h+XwVKE2mHmFnPxPDSxOf/MbP/mNk7ZnZLHHdx3A7vxO3SwMwOB3oAt8ZlfiuZr5kda2Zvx7weMLO6cfwcM/uNmb0Vpx2Q5/vkTGdm/c3smkS6qbF2paWZzTCz++O4R8zsODMbbWYzzezQKl3hWwAz+6GZTYnb5W9mdpqZvRnX+0tmtltM1z9OfyWui4vj+JZxXW0PDADOjtvybDM71MzGxLzGmFmbAspzctwGb5jZ4EzFQ768LFE5Ecv4QDwXvG9m22JgWCue5941sxfNrL6FipxxcTs+ZWY7A8T1UBI/NzWzOfFzbzN70sz+CbxoZs3N7LW43aaa2ZHZC43z/MPMnjez98zsxsS0jc4bcfxSCzX6bwJdsvK7y8x6xM9PmdkD8fOFZnZTBfmeYGZj43H9pJntmJV3/VjOi6tonVeOu1fZH9ASmAHcD0wFHgGOA0YDM4FDY7pDgTHA2/F/mzi+N/Ak8E/glZjfVGB74CNgATAZOLucPLoBz+Qp3y3ANGAKMBA4nPDImQ9ivt8CLiY8t/AdYDjQIE+6UUBJzLcpMCd+bguMj+mmAK0LXHdzgBuAa+LwAOAXwNTEun0deCv+HZ74viOBR+N3awlMB+6K62afmHfTmP68RPnuAWrF8T8C/gu8CtwH3JmnnCfG5b8DvJzYbncSHt49B9gujm9AeL1fnaw8dgCejXlMBc5OrIP/jeUbD+wXx+8DvBzX58vA3nH8EKBnIt+l8X9z4LX4HacCR8bxJwBjY/mfBHasyv0/6zvuEv/Xj2XYM36/XYA6cVveGdM8ChwRP+8NTK+ucm0Lf8CBhHNEnTh8F+EZoh8BzQjni9GJ9ZtvPzmJcO5okLXNmiTS3gT8NE8+QwjPLK0X9/P94/iHgKsS+3Rm/suA+/N8p5zpgP7Ec0Icnko4xlsCa4CDCRfyk4AHCG9UOh14uqa3UxVv87bAe6w/j+0C7Mz6J1lcBNyWWGfvxGOvadw2e8R1ljmf9iZxjgN2AmrHz8cBw+PnbuT4PUls81Zx+LFMukLyimUcA9SNZVxE1nlya/5L7J/t4/AThN+eKcBRcdwAYFD8PIrcv6e9CS+JyBybPwd+GT/XAhrmWHZv4FPCq2Qz598Scp83fhg/O3BWnu/SC7g1fh4PjIuf/wp0z5dv/B6vATvE8b8A+sXPc+I6eilThpr4q44q1f2AMwnv650A/AA4gnD1fAOhJm0G0NXD8wGPA34HfD/O3wVo5+5fmFlLAHf/xsz6EXaQvgBmtlM5eWzEzHYBzgAOcHc3s8bu/pWZjSAclJmm5q/c/b74+SbgQnf/U450+RZ1CXCHuz8SrzQrU508jPCjMhA4DTgXOD9Omw8c7+4rzaw14YSTeaXNocBB7v5BXGdtgB+5+2XJslqoVTwbKHX31WZ2F3Cumf0b+A1wCLCYEFC+nWMdNiMEh13jsnZJTnf3xWb2DnBUzOM04AV3X52V1YnAPHc/JebbKDHta3c/1Mx+CAwCTiUElw+5+4Nm9mNgMGE/yucHcbk3xyuxBhb6W/wKOM7dl5nZL4CfEU5C1eEKMzsjft6LsB1fdfcvAMzsSWD/OP044NuJfWonM2vo7kuqqWxbu2MJ++qEuM7qEy7SRrn7AgAze5z16zef44C/uvtygMy2AQ6Kx35jYEfC80vL0wb4wN3/G4cfBC4n7L8Af4//JwHfKyefQtNlfODu/wEws3cJF2RuZv8h/LhsS44Bhrn7QgjbyswOBh43s+aEoP+DRPp/uPsKYIWZjSScIyeXk38j4MF4bnXCRVp5DgDed/fMMh9j/TvqC83rWXdfBawys/nAboRgZ1vxgbtn1vkkQsVJY3d/NY57kHAhXpF/J47NCcADZlaHcJGTb5v+290XAZjZ3wkxyBo2Pm/Mj+nXEip8cnkduMpCF7BpwM5xn+sCXEG4+MyVb2dCq+HoOH57QgVExj+AP7j7IwWsg2pRHQFgISel8g6Q5MYuT2UP2K+BlcD9ZvYskK+fYGVP/tnGAr80sxbA3919ZiXm/QL40sx6EWrxliem1QHuNLP2hJ01+eM2PnEiAvjQ3cflyD/XD+d84DAK+/HsDLyWWVae7fQ4IcgcSbhyuitHmv8AA83sfwlBdbLv42OJ/7fHz11Y/4P4N+APOfJM2ugkYWZHUf7BWGXMrBshuOji7svNbBSh9iJfs/52Me2K6ijPNsiAB939+rIRZt8lXODlsobY3cXCxt8+kU+uB6EOAb7r7u+YWW9CzU1F5SnPqvh/LfGca2YvEH7wJ7r7RfnSJcse1cuRL8C6xPA6ivee92LJta3+BPzR3UfEY65/Ylp22ooeePtbYKS7nxEvokdtVIDENgP+vDl5Rcntl9zm24rs71deP/Tkfl4va9qyzAd3f83MugKnEF4ccSuwBMg082aOpVzbf6PzRsJKd18LYGaHEVrHINTYjbDQVH0ioUZvF+AsQkvCknhO2ShfMzuNEM+ck+c7jwZOMrNHPVYLFlt19AEs5KSUOUAOItQSJTf4MgpTXh5AOGBjm/z97r6GcBU4nFB79HyefIcAfd39YEKt2Eb5Rjl3WHd/lFDbuQJ4wcyOKfD7ZDxOOLk8ljX+auBz4DuEmr/tE9Oy11m+dZjZUdvHvzbu3j9T9I0Sh35Vk+PfAPL/YCaNIOzUuxCCzVfMbK9EPpfEmpJDCIHg72Ptbobn+UyO8Tl/2N39NaAr8AnhJPHDWPZ/J777t939wgq+y6ZqBHwZg78DCIFzA+AoM9vZQmfmZG31i0DfzEAM8iW/l4GeZrYrlNXuvw10M7MmMfA/M5F+DmF/g9A8mrlYfBH4sZk1SOQD0BD4NOZzbiKfJXFathlASzPbLw6fT+hKkZe7d4/74UXlpYtl7xjL1xFoVUH6bdXLwFlm1gTKtlUjwjEO618jmnG6mdWL6bsRLgqTsrdlMq/euQqQtc1mAPtmWqkIF70F55VSiwkVHJl+e8njZA7rj9Ge5GFm+wDzYyvdX4CO7v5U4rw+MSY93sx2MbP6hN/70eQ4b8T8NuDubybyy7yydixwFSEAfB24Jv6nnHzHAaWZ84KFvsTJipV+hKb/XJUkRVFTN4FsygGyWQeshc6Xjdz9OcKGzPzIZudb6Ml/Djl2WDPbl9A0MJgQDLUr8PtlPEWo4cqueWwEfOru6wgHzqbcqZRvR32THD+e7r42cSD0IxwER5lZq8z82Qtw96WEfhJ3EGr31rr7x4l87jazPYDl7v4wobm7YyKLsxP/MzV0Y1j/asBzgTfi5znk+GHPdZKg4oOxKj0P1DazKYQLlXGEffV3hHX9EqEpYXFMfwVQYqFj9DRCNwLJw92nEZrzX4zr+N+Efp/9CfvMS4R+nhn3Efbb8YTa7mUxn+cJx+hEM5tMOKkD/Jqwnf5N+KHPGApca6Fz/7cS5VlJ6EP7ZGzpWAfcXUVfdziwSyzfpYR+uqnj7u8CNwOvWuhm8kfC9n7SwtMTFmbNMp7Qz3gc8Ft3n5c1fSSh28VkMzubcM79vZmNpoBza6ytvwx43szeIFycZ47nSuWVMhcQbqSaQvgNznTBGQhcamZjCH3n8ukGTDaztwkX0XfkSfcGobVoMqEP5sRyzhuFeJ3Qr3MW4dyySxyX93wUW9R6A4/F8eMIXQeSrgLqmVlFrVrVw6u+4+fUxPAQYqdpNuyA24VwIhtN+IFMdvi8M1d+hBU+gfU3geTLoxu5O+02J5wUphBqni6I40sJP8ZvE/ooXEroSzKK0MQwJE+6A2JeYwgdxTPLvx54N5bzeWLn1QLW3RxiB+c83791XN444Pes78i+wffN3gbZecd1l7lBZRLQOY5P3gRyB/lvAjkproN3CDVqubZbT0It3VF58ugelz85btOSRDlvJPz4TmD9TSAtCTcFZd8EsltcH+Oz1skFhI6/bxMO0kxH7WNivlPiX4+q3P8L2MY7xv+1CZ2Gzyjm8vWnvzT8kXXjTDUuJ3M8G6EW5+qa/u762/j3SH/5//QuYNliWLj1v8RjR+9tjXYQVZEAAAMPSURBVJkNJPQNrEdofrzSdQCKVCkz60+4GBxYzcu5mnCxuT3hYvNijzcUSc2J/XbLbhiV/BQAyhZjWw8ARUREthQKAKtZ7IT8co5Jx3q8TV1ERESkmBQAioiIiKTMFvsqOBERERGpHgoARURERFJGAaCIiIhIyigAFJFUMbM5ZrbCzJYm/vbYjPy6mdm29A5XEUkBBYAikkanufuOib/sN0UUTXw1oIhIUSkAFBEBzKyzmY0xs6/M7B0z65aY9iMzm25mS8zsfTP7SRy/A/AvYI9kbaKZDTGzmxLzb1BLGGshfxFfEbXMzGrH+Yab2QIz+8DMrijetxeRtFEAKCKpZ2Z7Et4dexPhtZPXAMPNrFlMMh84FdiJ8NrE282so7svI7wecd4m1CaeA5wCNCa8P/ifhFcs7gkcC1xl9v/t3btrFUEYhvHnM2jUJqAIQQQrrSxsUtoaDBy0EUTEzlbS2NgI/gkWNtpFEAUhCqZRELETC8HGxkQ4lSgYIiJ4ey12A0s4GMxJ5T6/ai8zzGz37lyYmt2WD5SkDQyAkvposR3pW62qReACsJRkKcnvJE+AV8AcQJLHSd6l8ZzmKL8TY/bhRpJhkm/ADHAgyfUk35MsA7eAc2O2IUkjufZEUh+dSfJ0/aaqbgJnq2rQKbMTeNa+PwVcA47S/DjvBd6M2Ydh5/owzTTyaufZBPBizDYkaSQDoCQ1YWwhyaWNL6pqEngAXAQeJvnRjhpWW2TUcUpfaULiuukRZbr1hsBKkiNb6bwk/SungCUJ7gCDqpqtqomq2t1u3DgE7AImgY/Az3Y08GSn7gdgf1VNdZ69Buaqal9VTQPzm7T/ElhrN4bsaftwrKpmtu0LJanDACip95IMgdPAVZqgNwSuADuSfAEuA/eBz8B54FGn7lvgLrDcrik8CCzQbOh4T7Ne8N4m7f8CBsBxYAX4BNwGpv5WT5K2qpJRsxeSJEn6XzkCKEmS1DMGQEmSpJ4xAEqSJPWMAVCSJKlnDICSJEk9YwCUJEnqGQOgJElSzxgAJUmSeuYPEQE0P/kS7bMAAAAASUVORK5CYII=\n",
      "text/plain": [
       "<matplotlib.figure.Figure at 0x10e548a50>"
      ]
     },
     "metadata": {},
     "output_type": "display_data"
    }
   ],
   "source": [
    "# TODO: Import a supervised learning model that has 'feature_importances_'\n",
    "from sklearn.ensemble import AdaBoostRegressor\n",
    "from sklearn.tree     import DecisionTreeRegressor\n",
    "\n",
    "\n",
    "# TODO: Train the supervised model on the training set using .fit(X_train, y_train)\n",
    "model = AdaBoostRegressor(DecisionTreeRegressor(max_depth=4),\n",
    "                          n_estimators=300).fit(X_train, y_train)\n",
    "\n",
    "# TODO: Extract the feature importances using .feature_importances_ \n",
    "importances = model.feature_importances_\n",
    "\n",
    "# Plot\n",
    "vs.feature_plot(importances, X_train, y_train)"
   ]
  },
  {
   "cell_type": "markdown",
   "metadata": {},
   "source": [
    "### Question 7 - Extracting Feature Importance\n",
    "\n",
    "Observe the visualization created above which displays the five most relevant features for predicting if an individual makes at most or above \\$50,000.  \n",
    "* How do these five features compare to the five features you discussed in **Question 6**?\n",
    "* If you were close to the same answer, how does this visualization confirm your thoughts? \n",
    "* If you were not close, why do you think these features are more relevant?"
   ]
  },
  {
   "cell_type": "markdown",
   "metadata": {},
   "source": [
    "**Answer:**\n",
    "Age, hours per week, marital status, and education matches the most relevant features. \n",
    "I missed the Capital gain and added the occupation. I did not think capital gain would be as important a feature maybe because I did not check the data correctly. And I didn't understand what it represent in real life. But I added occupation instead and the reason why occupation is not present here is maybe because it has many values and there are not enough instances of each of these values to be as relevant as the rest of the five features."
   ]
  },
  {
   "cell_type": "markdown",
   "metadata": {},
   "source": [
    "### Feature Selection\n",
    "How does a model perform if we only use a subset of all the available features in the data? With less features required to train, the expectation is that training and prediction time is much lower — at the cost of performance metrics. From the visualization above, we see that the top five most important features contribute more than half of the importance of **all** features present in the data. This hints that we can attempt to *reduce the feature space* and simplify the information required for the model to learn. The code cell below will use the same optimized model you found earlier, and train it on the same training set *with only the top five important features*. "
   ]
  },
  {
   "cell_type": "code",
   "execution_count": 13,
   "metadata": {},
   "outputs": [
    {
     "name": "stdout",
     "output_type": "stream",
     "text": [
      "Final Model trained on full data\n------\nAccuracy on testing data: 0.8376\nF-score on testing data: 0.6757\n\nFinal Model trained on reduced data\n------\nAccuracy on testing data: 0.8287\nF-score on testing data: 0.6549\n"
     ]
    }
   ],
   "source": [
    "# Import functionality for cloning a model\n",
    "from sklearn.base import clone\n",
    "\n",
    "# Reduce the feature space\n",
    "X_train_reduced = X_train[X_train.columns.values[(np.argsort(importances)[::-1])[:5]]]\n",
    "X_test_reduced = X_test[X_test.columns.values[(np.argsort(importances)[::-1])[:5]]]\n",
    "\n",
    "# Train on the \"best\" model found from grid search earlier\n",
    "clf = (clone(best_clf)).fit(X_train_reduced, y_train)\n",
    "\n",
    "# Make new predictions\n",
    "reduced_predictions = clf.predict(X_test_reduced)\n",
    "\n",
    "# Report scores from the final model using both versions of data\n",
    "print \"Final Model trained on full data\\n------\"\n",
    "print \"Accuracy on testing data: {:.4f}\".format(accuracy_score(y_test, best_predictions))\n",
    "print \"F-score on testing data: {:.4f}\".format(fbeta_score(y_test, best_predictions, beta = 0.5))\n",
    "print \"\\nFinal Model trained on reduced data\\n------\"\n",
    "print \"Accuracy on testing data: {:.4f}\".format(accuracy_score(y_test, reduced_predictions))\n",
    "print \"F-score on testing data: {:.4f}\".format(fbeta_score(y_test, reduced_predictions, beta = 0.5))"
   ]
  },
  {
   "cell_type": "markdown",
   "metadata": {},
   "source": [
    "### Question 8 - Effects of Feature Selection\n",
    "\n",
    "* How does the final model's F-score and accuracy score on the reduced data using only five features compare to those same scores when all features are used?\n",
    "* If training time was a factor, would you consider using the reduced data as your training set?"
   ]
  },
  {
   "cell_type": "markdown",
   "metadata": {},
   "source": [
    "**Answer:**\n",
    "The reduced model is F-score and accuracy score are worse than the optimized, full-data model. Even though the unoptimized model was fast it is not worth it unless it matters to the people who wants to work on the data set."
   ]
  },
  {
   "cell_type": "markdown",
   "metadata": {},
   "source": [
    "> **Note**: Once you have completed all of the code implementations and successfully answered each question above, you may finalize your work by exporting the iPython Notebook as an HTML document. You can do this by using the menu above and navigating to  \n",
    "**File -> Download as -> HTML (.html)**. Include the finished document along with this notebook as your submission."
   ]
  }
 ],
 "metadata": {
  "kernelspec": {
   "display_name": "Python 2",
   "language": "python",
   "name": "python2"
  },
  "language_info": {
   "codemirror_mode": {
    "name": "ipython",
    "version": 2
   },
   "file_extension": ".py",
   "mimetype": "text/x-python",
   "name": "python",
   "nbconvert_exporter": "python",
   "pygments_lexer": "ipython2",
   "version": "2.7.14"
  }
 },
 "nbformat": 4,
 "nbformat_minor": 1
}
